{
 "cells": [
  {
   "cell_type": "markdown",
   "id": "f06edbab-6b2c-49ee-a47b-e8746591aec8",
   "metadata": {},
   "source": [
    "Group Project Proposal"
   ]
  },
  {
   "cell_type": "code",
   "execution_count": 50,
   "id": "5e779b19-ad02-4c9d-9376-0ac67f6b2f0e",
   "metadata": {},
   "outputs": [
    {
     "name": "stderr",
     "output_type": "stream",
     "text": [
      "Warning message in file(filename, \"r\", encoding = encoding):\n",
      "“cannot open file 'tests.R': No such file or directory”\n"
     ]
    },
    {
     "ename": "ERROR",
     "evalue": "Error in file(filename, \"r\", encoding = encoding): cannot open the connection\n",
     "output_type": "error",
     "traceback": [
      "Error in file(filename, \"r\", encoding = encoding): cannot open the connection\nTraceback:\n",
      "1. source(\"tests.R\")",
      "2. file(filename, \"r\", encoding = encoding)"
     ]
    }
   ],
   "source": [
    "library(tidyverse)\n",
    "library(repr)\n",
    "library(tidymodels)\n",
    "options(repr.matrix.max.rows = 6)\n",
    "source('tests.R')\n",
    "source(\"cleanup.R\")"
   ]
  },
  {
   "cell_type": "code",
   "execution_count": 51,
   "id": "6108eee6-c42f-4e07-a102-7e26ab510e22",
   "metadata": {},
   "outputs": [
    {
     "name": "stderr",
     "output_type": "stream",
     "text": [
      "\u001b[1mRows: \u001b[22m\u001b[34m17898\u001b[39m \u001b[1mColumns: \u001b[22m\u001b[34m9\u001b[39m\n",
      "\u001b[36m──\u001b[39m \u001b[1mColumn specification\u001b[22m \u001b[36m────────────────────────────────────────────────────────\u001b[39m\n",
      "\u001b[1mDelimiter:\u001b[22m \",\"\n",
      "\u001b[32mdbl\u001b[39m (9): X1, X2, X3, X4, X5, X6, X7, X8, X9\n",
      "\n",
      "\u001b[36mℹ\u001b[39m Use `spec()` to retrieve the full column specification for this data.\n",
      "\u001b[36mℹ\u001b[39m Specify the column types or set `show_col_types = FALSE` to quiet this message.\n"
     ]
    },
    {
     "data": {
      "text/html": [
       "<table class=\"dataframe\">\n",
       "<caption>A spec_tbl_df: 5 × 9</caption>\n",
       "<thead>\n",
       "\t<tr><th scope=col>X1</th><th scope=col>X2</th><th scope=col>X3</th><th scope=col>X4</th><th scope=col>X5</th><th scope=col>X6</th><th scope=col>X7</th><th scope=col>X8</th><th scope=col>X9</th></tr>\n",
       "\t<tr><th scope=col>&lt;dbl&gt;</th><th scope=col>&lt;dbl&gt;</th><th scope=col>&lt;dbl&gt;</th><th scope=col>&lt;dbl&gt;</th><th scope=col>&lt;dbl&gt;</th><th scope=col>&lt;dbl&gt;</th><th scope=col>&lt;dbl&gt;</th><th scope=col>&lt;dbl&gt;</th><th scope=col>&lt;dbl&gt;</th></tr>\n",
       "</thead>\n",
       "<tbody>\n",
       "\t<tr><td>140.56250</td><td>55.68378</td><td>-0.23457141</td><td>-0.6996484</td><td>3.199833</td><td>19.11043</td><td> 7.975532</td><td> 74.24222</td><td>0</td></tr>\n",
       "\t<tr><td>102.50781</td><td>58.88243</td><td> 0.46531815</td><td>-0.5150879</td><td>1.677258</td><td>14.86015</td><td>10.576487</td><td>127.39358</td><td>0</td></tr>\n",
       "\t<tr><td>103.01562</td><td>39.34165</td><td> 0.32332837</td><td> 1.0511644</td><td>3.121237</td><td>21.74467</td><td> 7.735822</td><td> 63.17191</td><td>0</td></tr>\n",
       "\t<tr><td>136.75000</td><td>57.17845</td><td>-0.06841464</td><td>-0.6362384</td><td>3.642977</td><td>20.95928</td><td> 6.896499</td><td> 53.59366</td><td>0</td></tr>\n",
       "\t<tr><td> 88.72656</td><td>40.67223</td><td> 0.60086608</td><td> 1.1234917</td><td>1.178930</td><td>11.46872</td><td>14.269573</td><td>252.56731</td><td>0</td></tr>\n",
       "</tbody>\n",
       "</table>\n"
      ],
      "text/latex": [
       "A spec\\_tbl\\_df: 5 × 9\n",
       "\\begin{tabular}{lllllllll}\n",
       " X1 & X2 & X3 & X4 & X5 & X6 & X7 & X8 & X9\\\\\n",
       " <dbl> & <dbl> & <dbl> & <dbl> & <dbl> & <dbl> & <dbl> & <dbl> & <dbl>\\\\\n",
       "\\hline\n",
       "\t 140.56250 & 55.68378 & -0.23457141 & -0.6996484 & 3.199833 & 19.11043 &  7.975532 &  74.24222 & 0\\\\\n",
       "\t 102.50781 & 58.88243 &  0.46531815 & -0.5150879 & 1.677258 & 14.86015 & 10.576487 & 127.39358 & 0\\\\\n",
       "\t 103.01562 & 39.34165 &  0.32332837 &  1.0511644 & 3.121237 & 21.74467 &  7.735822 &  63.17191 & 0\\\\\n",
       "\t 136.75000 & 57.17845 & -0.06841464 & -0.6362384 & 3.642977 & 20.95928 &  6.896499 &  53.59366 & 0\\\\\n",
       "\t  88.72656 & 40.67223 &  0.60086608 &  1.1234917 & 1.178930 & 11.46872 & 14.269573 & 252.56731 & 0\\\\\n",
       "\\end{tabular}\n"
      ],
      "text/markdown": [
       "\n",
       "A spec_tbl_df: 5 × 9\n",
       "\n",
       "| X1 &lt;dbl&gt; | X2 &lt;dbl&gt; | X3 &lt;dbl&gt; | X4 &lt;dbl&gt; | X5 &lt;dbl&gt; | X6 &lt;dbl&gt; | X7 &lt;dbl&gt; | X8 &lt;dbl&gt; | X9 &lt;dbl&gt; |\n",
       "|---|---|---|---|---|---|---|---|---|\n",
       "| 140.56250 | 55.68378 | -0.23457141 | -0.6996484 | 3.199833 | 19.11043 |  7.975532 |  74.24222 | 0 |\n",
       "| 102.50781 | 58.88243 |  0.46531815 | -0.5150879 | 1.677258 | 14.86015 | 10.576487 | 127.39358 | 0 |\n",
       "| 103.01562 | 39.34165 |  0.32332837 |  1.0511644 | 3.121237 | 21.74467 |  7.735822 |  63.17191 | 0 |\n",
       "| 136.75000 | 57.17845 | -0.06841464 | -0.6362384 | 3.642977 | 20.95928 |  6.896499 |  53.59366 | 0 |\n",
       "|  88.72656 | 40.67223 |  0.60086608 |  1.1234917 | 1.178930 | 11.46872 | 14.269573 | 252.56731 | 0 |\n",
       "\n"
      ],
      "text/plain": [
       "  X1        X2       X3          X4         X5       X6       X7       \n",
       "1 140.56250 55.68378 -0.23457141 -0.6996484 3.199833 19.11043  7.975532\n",
       "2 102.50781 58.88243  0.46531815 -0.5150879 1.677258 14.86015 10.576487\n",
       "3 103.01562 39.34165  0.32332837  1.0511644 3.121237 21.74467  7.735822\n",
       "4 136.75000 57.17845 -0.06841464 -0.6362384 3.642977 20.95928  6.896499\n",
       "5  88.72656 40.67223  0.60086608  1.1234917 1.178930 11.46872 14.269573\n",
       "  X8        X9\n",
       "1  74.24222 0 \n",
       "2 127.39358 0 \n",
       "3  63.17191 0 \n",
       "4  53.59366 0 \n",
       "5 252.56731 0 "
      ]
     },
     "metadata": {},
     "output_type": "display_data"
    }
   ],
   "source": [
    "url <- \"https://github.com/arielpark821/DSCI-100-Group-3/raw/main/HTRU_2.csv\"\n",
    "download.file(url, \"pulsar_data.csv\")\n",
    "pulsar_data <- read_csv(\"pulsar_data.csv\", col_names = FALSE)\n",
    "slice(pulsar_data, 1:5)"
   ]
  },
  {
   "cell_type": "code",
   "execution_count": 52,
   "id": "e658b183-52dd-4e61-9bd4-172623832a54",
   "metadata": {},
   "outputs": [
    {
     "data": {
      "text/html": [
       "<table class=\"dataframe\">\n",
       "<caption>A spec_tbl_df: 17898 × 9</caption>\n",
       "<thead>\n",
       "\t<tr><th scope=col>Mean_integrated</th><th scope=col>Std_integrated</th><th scope=col>Excess_kurtosis_integrated</th><th scope=col>Skewness_integrated</th><th scope=col>Mean_curve</th><th scope=col>Std_curve</th><th scope=col>Excess_kurtosis_curve</th><th scope=col>Skewness_curve</th><th scope=col>Class</th></tr>\n",
       "\t<tr><th scope=col>&lt;dbl&gt;</th><th scope=col>&lt;dbl&gt;</th><th scope=col>&lt;dbl&gt;</th><th scope=col>&lt;dbl&gt;</th><th scope=col>&lt;dbl&gt;</th><th scope=col>&lt;dbl&gt;</th><th scope=col>&lt;dbl&gt;</th><th scope=col>&lt;dbl&gt;</th><th scope=col>&lt;dbl&gt;</th></tr>\n",
       "</thead>\n",
       "<tbody>\n",
       "\t<tr><td>140.5625</td><td>55.68378</td><td>-0.2345714</td><td>-0.6996484</td><td>3.199833</td><td>19.11043</td><td> 7.975532</td><td> 74.24222</td><td>0</td></tr>\n",
       "\t<tr><td>102.5078</td><td>58.88243</td><td> 0.4653182</td><td>-0.5150879</td><td>1.677258</td><td>14.86015</td><td>10.576487</td><td>127.39358</td><td>0</td></tr>\n",
       "\t<tr><td>103.0156</td><td>39.34165</td><td> 0.3233284</td><td> 1.0511644</td><td>3.121237</td><td>21.74467</td><td> 7.735822</td><td> 63.17191</td><td>0</td></tr>\n",
       "\t<tr><td>⋮</td><td>⋮</td><td>⋮</td><td>⋮</td><td>⋮</td><td>⋮</td><td>⋮</td><td>⋮</td><td>⋮</td></tr>\n",
       "\t<tr><td>119.3359</td><td>59.93594</td><td>0.1593631</td><td>-0.74302540</td><td> 21.430602</td><td>58.87200</td><td> 2.499517</td><td>  4.595173</td><td>0</td></tr>\n",
       "\t<tr><td>114.5078</td><td>53.90240</td><td>0.2011614</td><td>-0.02478884</td><td>  1.946488</td><td>13.38173</td><td>10.007967</td><td>134.238910</td><td>0</td></tr>\n",
       "\t<tr><td> 57.0625</td><td>85.79734</td><td>1.4063910</td><td> 0.08951971</td><td>188.306020</td><td>64.71256</td><td>-1.597527</td><td>  1.429475</td><td>0</td></tr>\n",
       "</tbody>\n",
       "</table>\n"
      ],
      "text/latex": [
       "A spec\\_tbl\\_df: 17898 × 9\n",
       "\\begin{tabular}{lllllllll}\n",
       " Mean\\_integrated & Std\\_integrated & Excess\\_kurtosis\\_integrated & Skewness\\_integrated & Mean\\_curve & Std\\_curve & Excess\\_kurtosis\\_curve & Skewness\\_curve & Class\\\\\n",
       " <dbl> & <dbl> & <dbl> & <dbl> & <dbl> & <dbl> & <dbl> & <dbl> & <dbl>\\\\\n",
       "\\hline\n",
       "\t 140.5625 & 55.68378 & -0.2345714 & -0.6996484 & 3.199833 & 19.11043 &  7.975532 &  74.24222 & 0\\\\\n",
       "\t 102.5078 & 58.88243 &  0.4653182 & -0.5150879 & 1.677258 & 14.86015 & 10.576487 & 127.39358 & 0\\\\\n",
       "\t 103.0156 & 39.34165 &  0.3233284 &  1.0511644 & 3.121237 & 21.74467 &  7.735822 &  63.17191 & 0\\\\\n",
       "\t ⋮ & ⋮ & ⋮ & ⋮ & ⋮ & ⋮ & ⋮ & ⋮ & ⋮\\\\\n",
       "\t 119.3359 & 59.93594 & 0.1593631 & -0.74302540 &  21.430602 & 58.87200 &  2.499517 &   4.595173 & 0\\\\\n",
       "\t 114.5078 & 53.90240 & 0.2011614 & -0.02478884 &   1.946488 & 13.38173 & 10.007967 & 134.238910 & 0\\\\\n",
       "\t  57.0625 & 85.79734 & 1.4063910 &  0.08951971 & 188.306020 & 64.71256 & -1.597527 &   1.429475 & 0\\\\\n",
       "\\end{tabular}\n"
      ],
      "text/markdown": [
       "\n",
       "A spec_tbl_df: 17898 × 9\n",
       "\n",
       "| Mean_integrated &lt;dbl&gt; | Std_integrated &lt;dbl&gt; | Excess_kurtosis_integrated &lt;dbl&gt; | Skewness_integrated &lt;dbl&gt; | Mean_curve &lt;dbl&gt; | Std_curve &lt;dbl&gt; | Excess_kurtosis_curve &lt;dbl&gt; | Skewness_curve &lt;dbl&gt; | Class &lt;dbl&gt; |\n",
       "|---|---|---|---|---|---|---|---|---|\n",
       "| 140.5625 | 55.68378 | -0.2345714 | -0.6996484 | 3.199833 | 19.11043 |  7.975532 |  74.24222 | 0 |\n",
       "| 102.5078 | 58.88243 |  0.4653182 | -0.5150879 | 1.677258 | 14.86015 | 10.576487 | 127.39358 | 0 |\n",
       "| 103.0156 | 39.34165 |  0.3233284 |  1.0511644 | 3.121237 | 21.74467 |  7.735822 |  63.17191 | 0 |\n",
       "| ⋮ | ⋮ | ⋮ | ⋮ | ⋮ | ⋮ | ⋮ | ⋮ | ⋮ |\n",
       "| 119.3359 | 59.93594 | 0.1593631 | -0.74302540 |  21.430602 | 58.87200 |  2.499517 |   4.595173 | 0 |\n",
       "| 114.5078 | 53.90240 | 0.2011614 | -0.02478884 |   1.946488 | 13.38173 | 10.007967 | 134.238910 | 0 |\n",
       "|  57.0625 | 85.79734 | 1.4063910 |  0.08951971 | 188.306020 | 64.71256 | -1.597527 |   1.429475 | 0 |\n",
       "\n"
      ],
      "text/plain": [
       "      Mean_integrated Std_integrated Excess_kurtosis_integrated\n",
       "1     140.5625        55.68378       -0.2345714                \n",
       "2     102.5078        58.88243        0.4653182                \n",
       "3     103.0156        39.34165        0.3233284                \n",
       "⋮     ⋮               ⋮              ⋮                         \n",
       "17896 119.3359        59.93594       0.1593631                 \n",
       "17897 114.5078        53.90240       0.2011614                 \n",
       "17898  57.0625        85.79734       1.4063910                 \n",
       "      Skewness_integrated Mean_curve Std_curve Excess_kurtosis_curve\n",
       "1     -0.6996484          3.199833   19.11043   7.975532            \n",
       "2     -0.5150879          1.677258   14.86015  10.576487            \n",
       "3      1.0511644          3.121237   21.74467   7.735822            \n",
       "⋮     ⋮                   ⋮          ⋮         ⋮                    \n",
       "17896 -0.74302540          21.430602 58.87200   2.499517            \n",
       "17897 -0.02478884           1.946488 13.38173  10.007967            \n",
       "17898  0.08951971         188.306020 64.71256  -1.597527            \n",
       "      Skewness_curve Class\n",
       "1      74.24222      0    \n",
       "2     127.39358      0    \n",
       "3      63.17191      0    \n",
       "⋮     ⋮              ⋮    \n",
       "17896   4.595173     0    \n",
       "17897 134.238910     0    \n",
       "17898   1.429475     0    "
      ]
     },
     "metadata": {},
     "output_type": "display_data"
    }
   ],
   "source": [
    "pulsar_data <- rename(pulsar_data,\n",
    "                      Mean_integrated = X1, \n",
    "                      Std_integrated = X2, \n",
    "                      Excess_kurtosis_integrated = X3, \n",
    "                      Skewness_integrated = X4,\n",
    "                      Mean_curve = X5,\n",
    "                      Std_curve = X6,\n",
    "                      Excess_kurtosis_curve = X7,\n",
    "                      Skewness_curve = X8,\n",
    "                      Class = X9)\n",
    "pulsar_data"
   ]
  },
  {
   "cell_type": "code",
   "execution_count": 53,
   "id": "11f016c3-4635-454e-928a-4b7c7df9ec63",
   "metadata": {},
   "outputs": [
    {
     "data": {
      "text/html": [
       "<table class=\"dataframe\">\n",
       "<caption>A tibble: 17898 × 5</caption>\n",
       "<thead>\n",
       "\t<tr><th scope=col>Mean_integrated</th><th scope=col>Std_integrated</th><th scope=col>Mean_curve</th><th scope=col>Std_curve</th><th scope=col>Class</th></tr>\n",
       "\t<tr><th scope=col>&lt;dbl&gt;</th><th scope=col>&lt;dbl&gt;</th><th scope=col>&lt;dbl&gt;</th><th scope=col>&lt;dbl&gt;</th><th scope=col>&lt;fct&gt;</th></tr>\n",
       "</thead>\n",
       "<tbody>\n",
       "\t<tr><td>140.5625</td><td>55.68378</td><td>3.199833</td><td>19.11043</td><td>FALSE</td></tr>\n",
       "\t<tr><td>102.5078</td><td>58.88243</td><td>1.677258</td><td>14.86015</td><td>FALSE</td></tr>\n",
       "\t<tr><td>103.0156</td><td>39.34165</td><td>3.121237</td><td>21.74467</td><td>FALSE</td></tr>\n",
       "\t<tr><td>⋮</td><td>⋮</td><td>⋮</td><td>⋮</td><td>⋮</td></tr>\n",
       "\t<tr><td>119.3359</td><td>59.93594</td><td> 21.430602</td><td>58.87200</td><td>FALSE</td></tr>\n",
       "\t<tr><td>114.5078</td><td>53.90240</td><td>  1.946488</td><td>13.38173</td><td>FALSE</td></tr>\n",
       "\t<tr><td> 57.0625</td><td>85.79734</td><td>188.306020</td><td>64.71256</td><td>FALSE</td></tr>\n",
       "</tbody>\n",
       "</table>\n"
      ],
      "text/latex": [
       "A tibble: 17898 × 5\n",
       "\\begin{tabular}{lllll}\n",
       " Mean\\_integrated & Std\\_integrated & Mean\\_curve & Std\\_curve & Class\\\\\n",
       " <dbl> & <dbl> & <dbl> & <dbl> & <fct>\\\\\n",
       "\\hline\n",
       "\t 140.5625 & 55.68378 & 3.199833 & 19.11043 & FALSE\\\\\n",
       "\t 102.5078 & 58.88243 & 1.677258 & 14.86015 & FALSE\\\\\n",
       "\t 103.0156 & 39.34165 & 3.121237 & 21.74467 & FALSE\\\\\n",
       "\t ⋮ & ⋮ & ⋮ & ⋮ & ⋮\\\\\n",
       "\t 119.3359 & 59.93594 &  21.430602 & 58.87200 & FALSE\\\\\n",
       "\t 114.5078 & 53.90240 &   1.946488 & 13.38173 & FALSE\\\\\n",
       "\t  57.0625 & 85.79734 & 188.306020 & 64.71256 & FALSE\\\\\n",
       "\\end{tabular}\n"
      ],
      "text/markdown": [
       "\n",
       "A tibble: 17898 × 5\n",
       "\n",
       "| Mean_integrated &lt;dbl&gt; | Std_integrated &lt;dbl&gt; | Mean_curve &lt;dbl&gt; | Std_curve &lt;dbl&gt; | Class &lt;fct&gt; |\n",
       "|---|---|---|---|---|\n",
       "| 140.5625 | 55.68378 | 3.199833 | 19.11043 | FALSE |\n",
       "| 102.5078 | 58.88243 | 1.677258 | 14.86015 | FALSE |\n",
       "| 103.0156 | 39.34165 | 3.121237 | 21.74467 | FALSE |\n",
       "| ⋮ | ⋮ | ⋮ | ⋮ | ⋮ |\n",
       "| 119.3359 | 59.93594 |  21.430602 | 58.87200 | FALSE |\n",
       "| 114.5078 | 53.90240 |   1.946488 | 13.38173 | FALSE |\n",
       "|  57.0625 | 85.79734 | 188.306020 | 64.71256 | FALSE |\n",
       "\n"
      ],
      "text/plain": [
       "      Mean_integrated Std_integrated Mean_curve Std_curve Class\n",
       "1     140.5625        55.68378       3.199833   19.11043  FALSE\n",
       "2     102.5078        58.88243       1.677258   14.86015  FALSE\n",
       "3     103.0156        39.34165       3.121237   21.74467  FALSE\n",
       "⋮     ⋮               ⋮              ⋮          ⋮         ⋮    \n",
       "17896 119.3359        59.93594        21.430602 58.87200  FALSE\n",
       "17897 114.5078        53.90240         1.946488 13.38173  FALSE\n",
       "17898  57.0625        85.79734       188.306020 64.71256  FALSE"
      ]
     },
     "metadata": {},
     "output_type": "display_data"
    }
   ],
   "source": [
    "pulsar_data <- pulsar_data |>\n",
    "  mutate(Class = as_factor(Class)) |>\n",
    "  mutate(Class = fct_recode(Class, \"FALSE\" = \"0\", \"TRUE\" = \"1\")) |>\n",
    "  select(Mean_integrated, Std_integrated, Mean_curve, Std_curve, Class)\n",
    "pulsar_data"
   ]
  },
  {
   "cell_type": "code",
   "execution_count": 54,
   "id": "df356b20-e09f-4c29-9c72-3729064a846e",
   "metadata": {},
   "outputs": [
    {
     "name": "stdout",
     "output_type": "stream",
     "text": [
      "Rows: 13,423\n",
      "Columns: 5\n",
      "$ Mean_integrated \u001b[3m\u001b[90m<dbl>\u001b[39m\u001b[23m 140.56250, 102.50781, 88.72656, 93.57031, 130.38281, 1…\n",
      "$ Std_integrated  \u001b[3m\u001b[90m<dbl>\u001b[39m\u001b[23m 55.68378, 58.88243, 40.67223, 46.69811, 39.84406, 52.6…\n",
      "$ Mean_curve      \u001b[3m\u001b[90m<dbl>\u001b[39m\u001b[23m 3.1998328, 1.6772575, 1.1789298, 1.6362876, 1.2207358,…\n",
      "$ Std_curve       \u001b[3m\u001b[90m<dbl>\u001b[39m\u001b[23m 19.110426, 14.860146, 11.468720, 14.545074, 14.378941,…\n",
      "$ Class           \u001b[3m\u001b[90m<fct>\u001b[39m\u001b[23m FALSE, FALSE, FALSE, FALSE, FALSE, FALSE, FALSE, FALSE…\n",
      "Rows: 4,475\n",
      "Columns: 5\n",
      "$ Mean_integrated \u001b[3m\u001b[90m<dbl>\u001b[39m\u001b[23m 103.01562, 136.75000, 119.48438, 134.96094, 114.36719,…\n",
      "$ Std_integrated  \u001b[3m\u001b[90m<dbl>\u001b[39m\u001b[23m 39.34165, 57.17845, 48.76506, 49.55433, 51.94572, 41.5…\n",
      "$ Mean_curve      \u001b[3m\u001b[90m<dbl>\u001b[39m\u001b[23m 3.1212375, 3.6429766, 0.9991639, 10.6964883, 2.7382943…\n",
      "$ Std_curve       \u001b[3m\u001b[90m<dbl>\u001b[39m\u001b[23m 21.744669, 20.959280, 9.279612, 41.342044, 17.191891, …\n",
      "$ Class           \u001b[3m\u001b[90m<fct>\u001b[39m\u001b[23m FALSE, FALSE, FALSE, FALSE, FALSE, TRUE, FALSE, FALSE,…\n"
     ]
    }
   ],
   "source": [
    "pulsar_split <- initial_split(pulsar_data, prop = 0.75, strata = Class)\n",
    "pulsar_train <- training(pulsar_split)\n",
    "pulsar_test <- testing(pulsar_split)\n",
    "glimpse(pulsar_train)\n",
    "glimpse(pulsar_test)"
   ]
  },
  {
   "cell_type": "code",
   "execution_count": 56,
   "id": "a6d0e512-84e0-49a3-b5cb-1f1a579d93fe",
   "metadata": {},
   "outputs": [
    {
     "data": {
      "text/html": [
       "<table class=\"dataframe\">\n",
       "<caption>A tibble: 2 × 2</caption>\n",
       "<thead>\n",
       "\t<tr><th scope=col>Class</th><th scope=col>n</th></tr>\n",
       "\t<tr><th scope=col>&lt;fct&gt;</th><th scope=col>&lt;int&gt;</th></tr>\n",
       "</thead>\n",
       "<tbody>\n",
       "\t<tr><td>FALSE</td><td>12178</td></tr>\n",
       "\t<tr><td>TRUE </td><td> 1245</td></tr>\n",
       "</tbody>\n",
       "</table>\n"
      ],
      "text/latex": [
       "A tibble: 2 × 2\n",
       "\\begin{tabular}{ll}\n",
       " Class & n\\\\\n",
       " <fct> & <int>\\\\\n",
       "\\hline\n",
       "\t FALSE & 12178\\\\\n",
       "\t TRUE  &  1245\\\\\n",
       "\\end{tabular}\n"
      ],
      "text/markdown": [
       "\n",
       "A tibble: 2 × 2\n",
       "\n",
       "| Class &lt;fct&gt; | n &lt;int&gt; |\n",
       "|---|---|\n",
       "| FALSE | 12178 |\n",
       "| TRUE  |  1245 |\n",
       "\n"
      ],
      "text/plain": [
       "  Class n    \n",
       "1 FALSE 12178\n",
       "2 TRUE   1245"
      ]
     },
     "metadata": {},
     "output_type": "display_data"
    },
    {
     "data": {
      "text/html": [
       "<table class=\"dataframe\">\n",
       "<caption>A tibble: 1 × 4</caption>\n",
       "<thead>\n",
       "\t<tr><th scope=col>Mean_integrated</th><th scope=col>Std_integrated</th><th scope=col>Mean_curve</th><th scope=col>Std_curve</th></tr>\n",
       "\t<tr><th scope=col>&lt;dbl&gt;</th><th scope=col>&lt;dbl&gt;</th><th scope=col>&lt;dbl&gt;</th><th scope=col>&lt;dbl&gt;</th></tr>\n",
       "</thead>\n",
       "<tbody>\n",
       "\t<tr><td>110.9758</td><td>46.55139</td><td>12.89041</td><td>26.45852</td></tr>\n",
       "</tbody>\n",
       "</table>\n"
      ],
      "text/latex": [
       "A tibble: 1 × 4\n",
       "\\begin{tabular}{llll}\n",
       " Mean\\_integrated & Std\\_integrated & Mean\\_curve & Std\\_curve\\\\\n",
       " <dbl> & <dbl> & <dbl> & <dbl>\\\\\n",
       "\\hline\n",
       "\t 110.9758 & 46.55139 & 12.89041 & 26.45852\\\\\n",
       "\\end{tabular}\n"
      ],
      "text/markdown": [
       "\n",
       "A tibble: 1 × 4\n",
       "\n",
       "| Mean_integrated &lt;dbl&gt; | Std_integrated &lt;dbl&gt; | Mean_curve &lt;dbl&gt; | Std_curve &lt;dbl&gt; |\n",
       "|---|---|---|---|\n",
       "| 110.9758 | 46.55139 | 12.89041 | 26.45852 |\n",
       "\n"
      ],
      "text/plain": [
       "  Mean_integrated Std_integrated Mean_curve Std_curve\n",
       "1 110.9758        46.55139       12.89041   26.45852 "
      ]
     },
     "metadata": {},
     "output_type": "display_data"
    }
   ],
   "source": [
    "pulsar_train_class_count <- pulsar_train |>\n",
    "                      group_by(Class) |>\n",
    "                      summarize(n = n())\n",
    "pulsar_train_class_count\n",
    "\n",
    "pulsar_predictors_mean <- pulsar_train |>\n",
    "select(Mean_integrated,\n",
    "       Std_integrated,\n",
    "       Mean_curve,\n",
    "       Std_curve) |>\n",
    "  map_df(mean)\n",
    "pulsar_predictors_mean"
   ]
  },
  {
   "cell_type": "markdown",
   "id": "4bb686ad-9f82-4a57-83d0-1f8e0371791a",
   "metadata": {},
   "source": [
    "How to tell if there is missing data? There should be none!!! ok to use below?"
   ]
  },
  {
   "cell_type": "code",
   "execution_count": 57,
   "id": "85b815a7-c5db-4f05-8c16-89b4dce45880",
   "metadata": {},
   "outputs": [
    {
     "data": {
      "text/html": [
       "0"
      ],
      "text/latex": [
       "0"
      ],
      "text/markdown": [
       "0"
      ],
      "text/plain": [
       "[1] 0"
      ]
     },
     "metadata": {},
     "output_type": "display_data"
    }
   ],
   "source": [
    "sum(is.na(pulsar_train))"
   ]
  },
  {
   "cell_type": "markdown",
   "id": "3bd5060d-567e-4d81-9ed6-84e5d2064689",
   "metadata": {},
   "source": [
    "How to combine them all into 1 table??"
   ]
  },
  {
   "cell_type": "markdown",
   "id": "37d49343-2dbc-4c6e-abce-04e10e94af4a",
   "metadata": {},
   "source": [
    "Compare distributions -> use a histogram???"
   ]
  },
  {
   "cell_type": "code",
   "execution_count": 58,
   "id": "8a1ea504-1504-432c-a9f6-1cb52c901018",
   "metadata": {},
   "outputs": [
    {
     "name": "stderr",
     "output_type": "stream",
     "text": [
      "\u001b[1m\u001b[22m`stat_bin()` using `bins = 30`. Pick better value with `binwidth`.\n"
     ]
    },
    {
     "data": {
      "application/pdf": "[encoded data removed]",
      "image/jpeg": "[encoded data removed]",
      "image/png": "[encoded data removed]",
      "image/svg+xml": [
       "<?xml version=\"1.0\" encoding=\"UTF-8\"?>\n",
       "<svg xmlns=\"http://www.w3.org/2000/svg\" xmlns:xlink=\"http://www.w3.org/1999/xlink\" width=\"504\" height=\"504\" viewBox=\"0 0 504 504\">\n",
       "<defs>\n",
       "<g>\n",
       "<g id=\"glyph-0-0\">\n",
       "<path d=\"M 4.546875 -3.03125 C 4.546875 -2.445312 4.488281 -1.957031 4.375 -1.5625 C 4.269531 -1.164062 4.117188 -0.84375 3.921875 -0.59375 C 3.734375 -0.351562 3.507812 -0.179688 3.25 -0.078125 C 3 0.0234375 2.726562 0.078125 2.4375 0.078125 C 2.144531 0.078125 1.867188 0.0234375 1.609375 -0.078125 C 1.359375 -0.179688 1.140625 -0.351562 0.953125 -0.59375 C 0.765625 -0.84375 0.613281 -1.164062 0.5 -1.5625 C 0.394531 -1.957031 0.34375 -2.445312 0.34375 -3.03125 C 0.34375 -3.632812 0.394531 -4.132812 0.5 -4.53125 C 0.613281 -4.9375 0.765625 -5.257812 0.953125 -5.5 C 1.140625 -5.738281 1.359375 -5.90625 1.609375 -6 C 1.867188 -6.09375 2.15625 -6.140625 2.46875 -6.140625 C 2.75 -6.140625 3.015625 -6.09375 3.265625 -6 C 3.523438 -5.90625 3.75 -5.738281 3.9375 -5.5 C 4.125 -5.257812 4.269531 -4.9375 4.375 -4.53125 C 4.488281 -4.132812 4.546875 -3.632812 4.546875 -3.03125 Z M 3.765625 -3.03125 C 3.765625 -3.507812 3.734375 -3.90625 3.671875 -4.21875 C 3.617188 -4.539062 3.535156 -4.796875 3.421875 -4.984375 C 3.304688 -5.179688 3.164062 -5.316406 3 -5.390625 C 2.84375 -5.472656 2.664062 -5.515625 2.46875 -5.515625 C 2.25 -5.515625 2.054688 -5.472656 1.890625 -5.390625 C 1.722656 -5.316406 1.582031 -5.179688 1.46875 -4.984375 C 1.351562 -4.796875 1.265625 -4.539062 1.203125 -4.21875 C 1.148438 -3.90625 1.125 -3.507812 1.125 -3.03125 C 1.125 -2.5625 1.148438 -2.164062 1.203125 -1.84375 C 1.265625 -1.53125 1.351562 -1.273438 1.46875 -1.078125 C 1.582031 -0.890625 1.71875 -0.753906 1.875 -0.671875 C 2.039062 -0.585938 2.226562 -0.546875 2.4375 -0.546875 C 2.644531 -0.546875 2.828125 -0.585938 2.984375 -0.671875 C 3.148438 -0.753906 3.289062 -0.890625 3.40625 -1.078125 C 3.519531 -1.273438 3.609375 -1.53125 3.671875 -1.84375 C 3.734375 -2.164062 3.765625 -2.5625 3.765625 -3.03125 Z M 3.765625 -3.03125 \"/>\n",
       "</g>\n",
       "<g id=\"glyph-0-1\">\n",
       "<path d=\"M 4.515625 -1.96875 C 4.515625 -1.664062 4.46875 -1.390625 4.375 -1.140625 C 4.289062 -0.890625 4.15625 -0.671875 3.96875 -0.484375 C 3.789062 -0.304688 3.566406 -0.164062 3.296875 -0.0625 C 3.035156 0.03125 2.726562 0.078125 2.375 0.078125 C 2.0625 0.078125 1.785156 0.0390625 1.546875 -0.03125 C 1.304688 -0.101562 1.101562 -0.203125 0.9375 -0.328125 C 0.78125 -0.460938 0.648438 -0.613281 0.546875 -0.78125 C 0.453125 -0.957031 0.390625 -1.148438 0.359375 -1.359375 L 1.140625 -1.4375 C 1.171875 -1.320312 1.210938 -1.210938 1.265625 -1.109375 C 1.328125 -1.003906 1.40625 -0.910156 1.5 -0.828125 C 1.601562 -0.742188 1.722656 -0.675781 1.859375 -0.625 C 2.003906 -0.570312 2.179688 -0.546875 2.390625 -0.546875 C 2.585938 -0.546875 2.769531 -0.578125 2.9375 -0.640625 C 3.101562 -0.703125 3.242188 -0.789062 3.359375 -0.90625 C 3.472656 -1.03125 3.5625 -1.175781 3.625 -1.34375 C 3.6875 -1.519531 3.71875 -1.722656 3.71875 -1.953125 C 3.71875 -2.140625 3.6875 -2.3125 3.625 -2.46875 C 3.570312 -2.625 3.488281 -2.757812 3.375 -2.875 C 3.257812 -2.988281 3.117188 -3.078125 2.953125 -3.140625 C 2.796875 -3.203125 2.613281 -3.234375 2.40625 -3.234375 C 2.28125 -3.234375 2.160156 -3.21875 2.046875 -3.1875 C 1.941406 -3.164062 1.84375 -3.132812 1.75 -3.09375 C 1.65625 -3.0625 1.570312 -3.015625 1.5 -2.953125 C 1.425781 -2.898438 1.351562 -2.847656 1.28125 -2.796875 L 0.53125 -2.796875 L 0.734375 -6.046875 L 4.171875 -6.046875 L 4.171875 -5.390625 L 1.4375 -5.390625 L 1.3125 -3.46875 C 1.457031 -3.582031 1.628906 -3.675781 1.828125 -3.75 C 2.035156 -3.820312 2.28125 -3.859375 2.5625 -3.859375 C 2.863281 -3.859375 3.132812 -3.8125 3.375 -3.71875 C 3.613281 -3.632812 3.816406 -3.503906 3.984375 -3.328125 C 4.160156 -3.160156 4.289062 -2.960938 4.375 -2.734375 C 4.46875 -2.503906 4.515625 -2.25 4.515625 -1.96875 Z M 4.515625 -1.96875 \"/>\n",
       "</g>\n",
       "<g id=\"glyph-0-2\">\n",
       "<path d=\"M 0.671875 0 L 0.671875 -0.65625 L 2.21875 -0.65625 L 2.21875 -5.3125 L 0.84375 -4.34375 L 0.84375 -5.0625 L 2.28125 -6.046875 L 2.984375 -6.046875 L 2.984375 -0.65625 L 4.46875 -0.65625 L 4.46875 0 Z M 0.671875 0 \"/>\n",
       "</g>\n",
       "<g id=\"glyph-0-3\">\n",
       "<path d=\"M 0.4375 0 L 0.4375 -0.546875 C 0.582031 -0.878906 0.757812 -1.171875 0.96875 -1.421875 C 1.1875 -1.679688 1.410156 -1.914062 1.640625 -2.125 C 1.867188 -2.332031 2.097656 -2.523438 2.328125 -2.703125 C 2.554688 -2.878906 2.757812 -3.054688 2.9375 -3.234375 C 3.125 -3.410156 3.273438 -3.597656 3.390625 -3.796875 C 3.503906 -3.992188 3.5625 -4.210938 3.5625 -4.453125 C 3.5625 -4.628906 3.535156 -4.78125 3.484375 -4.90625 C 3.429688 -5.039062 3.351562 -5.148438 3.25 -5.234375 C 3.15625 -5.328125 3.039062 -5.394531 2.90625 -5.4375 C 2.769531 -5.476562 2.617188 -5.5 2.453125 -5.5 C 2.296875 -5.5 2.148438 -5.476562 2.015625 -5.4375 C 1.878906 -5.394531 1.757812 -5.332031 1.65625 -5.25 C 1.550781 -5.164062 1.460938 -5.054688 1.390625 -4.921875 C 1.328125 -4.796875 1.285156 -4.648438 1.265625 -4.484375 L 0.484375 -4.5625 C 0.503906 -4.78125 0.5625 -4.984375 0.65625 -5.171875 C 0.75 -5.359375 0.878906 -5.523438 1.046875 -5.671875 C 1.210938 -5.816406 1.410156 -5.929688 1.640625 -6.015625 C 1.878906 -6.097656 2.148438 -6.140625 2.453125 -6.140625 C 2.753906 -6.140625 3.019531 -6.101562 3.25 -6.03125 C 3.488281 -5.957031 3.6875 -5.847656 3.84375 -5.703125 C 4.007812 -5.566406 4.132812 -5.394531 4.21875 -5.1875 C 4.3125 -4.988281 4.359375 -4.753906 4.359375 -4.484375 C 4.359375 -4.273438 4.320312 -4.078125 4.25 -3.890625 C 4.175781 -3.710938 4.078125 -3.539062 3.953125 -3.375 C 3.828125 -3.207031 3.6875 -3.046875 3.53125 -2.890625 C 3.375 -2.742188 3.207031 -2.59375 3.03125 -2.4375 C 2.851562 -2.289062 2.675781 -2.144531 2.5 -2 C 2.320312 -1.863281 2.15625 -1.722656 2 -1.578125 C 1.84375 -1.429688 1.703125 -1.28125 1.578125 -1.125 C 1.453125 -0.976562 1.359375 -0.820312 1.296875 -0.65625 L 4.453125 -0.65625 L 4.453125 0 Z M 0.4375 0 \"/>\n",
       "</g>\n",
       "<g id=\"glyph-1-0\">\n",
       "<path d=\"M 7.34375 0 L 7.34375 -5.046875 C 7.34375 -5.234375 7.34375 -5.421875 7.34375 -5.609375 C 7.34375 -5.796875 7.347656 -5.96875 7.359375 -6.125 C 7.367188 -6.3125 7.378906 -6.488281 7.390625 -6.65625 C 7.335938 -6.476562 7.285156 -6.300781 7.234375 -6.125 C 7.179688 -5.96875 7.128906 -5.800781 7.078125 -5.625 C 7.023438 -5.445312 6.96875 -5.289062 6.90625 -5.15625 L 4.953125 0 L 4.234375 0 L 2.25 -5.15625 C 2.226562 -5.207031 2.207031 -5.269531 2.1875 -5.34375 C 2.164062 -5.414062 2.140625 -5.488281 2.109375 -5.5625 C 2.085938 -5.644531 2.0625 -5.726562 2.03125 -5.8125 C 2.007812 -5.90625 1.984375 -5.988281 1.953125 -6.0625 C 1.890625 -6.257812 1.832031 -6.457031 1.78125 -6.65625 C 1.78125 -6.457031 1.785156 -6.257812 1.796875 -6.0625 C 1.804688 -5.894531 1.8125 -5.71875 1.8125 -5.53125 C 1.8125 -5.351562 1.8125 -5.191406 1.8125 -5.046875 L 1.8125 0 L 0.90625 0 L 0.90625 -7.5625 L 2.25 -7.5625 L 4.265625 -2.328125 C 4.285156 -2.253906 4.3125 -2.160156 4.34375 -2.046875 C 4.382812 -1.929688 4.421875 -1.8125 4.453125 -1.6875 C 4.484375 -1.570312 4.515625 -1.460938 4.546875 -1.359375 C 4.578125 -1.253906 4.597656 -1.175781 4.609375 -1.125 C 4.617188 -1.175781 4.632812 -1.253906 4.65625 -1.359375 C 4.6875 -1.472656 4.71875 -1.585938 4.75 -1.703125 C 4.789062 -1.816406 4.828125 -1.929688 4.859375 -2.046875 C 4.898438 -2.160156 4.9375 -2.253906 4.96875 -2.328125 L 6.9375 -7.5625 L 8.265625 -7.5625 L 8.265625 0 Z M 7.34375 0 \"/>\n",
       "</g>\n",
       "<g id=\"glyph-1-1\">\n",
       "<path d=\"M 1.484375 -2.703125 C 1.484375 -2.398438 1.515625 -2.117188 1.578125 -1.859375 C 1.640625 -1.609375 1.734375 -1.390625 1.859375 -1.203125 C 1.992188 -1.015625 2.160156 -0.867188 2.359375 -0.765625 C 2.566406 -0.671875 2.816406 -0.625 3.109375 -0.625 C 3.523438 -0.625 3.859375 -0.707031 4.109375 -0.875 C 4.359375 -1.039062 4.53125 -1.253906 4.625 -1.515625 L 5.46875 -1.265625 C 5.40625 -1.109375 5.316406 -0.945312 5.203125 -0.78125 C 5.097656 -0.613281 4.953125 -0.460938 4.765625 -0.328125 C 4.585938 -0.203125 4.363281 -0.0976562 4.09375 -0.015625 C 3.820312 0.0664062 3.492188 0.109375 3.109375 0.109375 C 2.242188 0.109375 1.585938 -0.144531 1.140625 -0.65625 C 0.691406 -1.164062 0.46875 -1.925781 0.46875 -2.9375 C 0.46875 -3.488281 0.535156 -3.953125 0.671875 -4.328125 C 0.804688 -4.703125 0.988281 -5.007812 1.21875 -5.25 C 1.457031 -5.488281 1.734375 -5.660156 2.046875 -5.765625 C 2.367188 -5.867188 2.707031 -5.921875 3.0625 -5.921875 C 3.550781 -5.921875 3.957031 -5.84375 4.28125 -5.6875 C 4.613281 -5.53125 4.878906 -5.3125 5.078125 -5.03125 C 5.273438 -4.75 5.414062 -4.421875 5.5 -4.046875 C 5.582031 -3.671875 5.625 -3.265625 5.625 -2.828125 L 5.625 -2.703125 Z M 4.625 -3.4375 C 4.570312 -4.050781 4.414062 -4.5 4.15625 -4.78125 C 3.90625 -5.0625 3.535156 -5.203125 3.046875 -5.203125 C 2.890625 -5.203125 2.722656 -5.175781 2.546875 -5.125 C 2.367188 -5.070312 2.203125 -4.976562 2.046875 -4.84375 C 1.898438 -4.71875 1.773438 -4.539062 1.671875 -4.3125 C 1.566406 -4.082031 1.507812 -3.789062 1.5 -3.4375 Z M 4.625 -3.4375 \"/>\n",
       "</g>\n",
       "<g id=\"glyph-1-2\">\n",
       "<path d=\"M 2.21875 0.109375 C 1.632812 0.109375 1.195312 -0.0390625 0.90625 -0.34375 C 0.613281 -0.65625 0.46875 -1.082031 0.46875 -1.625 C 0.46875 -2.007812 0.539062 -2.320312 0.6875 -2.5625 C 0.832031 -2.8125 1.019531 -3.003906 1.25 -3.140625 C 1.488281 -3.285156 1.757812 -3.382812 2.0625 -3.4375 C 2.363281 -3.488281 2.664062 -3.519531 2.96875 -3.53125 L 4.28125 -3.546875 L 4.28125 -3.859375 C 4.28125 -4.097656 4.253906 -4.300781 4.203125 -4.46875 C 4.148438 -4.644531 4.070312 -4.78125 3.96875 -4.875 C 3.863281 -4.976562 3.734375 -5.054688 3.578125 -5.109375 C 3.429688 -5.160156 3.25 -5.1875 3.03125 -5.1875 C 2.84375 -5.1875 2.671875 -5.171875 2.515625 -5.140625 C 2.367188 -5.117188 2.238281 -5.070312 2.125 -5 C 2.019531 -4.925781 1.929688 -4.828125 1.859375 -4.703125 C 1.796875 -4.585938 1.753906 -4.441406 1.734375 -4.265625 L 0.71875 -4.34375 C 0.757812 -4.570312 0.828125 -4.78125 0.921875 -4.96875 C 1.023438 -5.164062 1.171875 -5.332031 1.359375 -5.46875 C 1.546875 -5.613281 1.773438 -5.722656 2.046875 -5.796875 C 2.328125 -5.878906 2.664062 -5.921875 3.0625 -5.921875 C 3.789062 -5.921875 4.335938 -5.753906 4.703125 -5.421875 C 5.078125 -5.085938 5.265625 -4.601562 5.265625 -3.96875 L 5.265625 -1.46875 C 5.265625 -1.175781 5.300781 -0.957031 5.375 -0.8125 C 5.445312 -0.664062 5.585938 -0.59375 5.796875 -0.59375 C 5.847656 -0.59375 5.898438 -0.597656 5.953125 -0.609375 C 6.015625 -0.617188 6.070312 -0.628906 6.125 -0.640625 L 6.125 -0.03125 C 6 0 5.875 0.0195312 5.75 0.03125 C 5.632812 0.0390625 5.507812 0.046875 5.375 0.046875 C 5.1875 0.046875 5.023438 0.0234375 4.890625 -0.015625 C 4.765625 -0.0664062 4.660156 -0.140625 4.578125 -0.234375 C 4.492188 -0.335938 4.429688 -0.460938 4.390625 -0.609375 C 4.347656 -0.753906 4.320312 -0.921875 4.3125 -1.109375 L 4.28125 -1.109375 C 4.175781 -0.921875 4.0625 -0.75 3.9375 -0.59375 C 3.8125 -0.445312 3.664062 -0.320312 3.5 -0.21875 C 3.34375 -0.113281 3.15625 -0.0351562 2.9375 0.015625 C 2.726562 0.078125 2.488281 0.109375 2.21875 0.109375 Z M 2.4375 -0.625 C 2.75 -0.625 3.019531 -0.675781 3.25 -0.78125 C 3.476562 -0.894531 3.671875 -1.039062 3.828125 -1.21875 C 3.984375 -1.394531 4.097656 -1.585938 4.171875 -1.796875 C 4.242188 -2.003906 4.28125 -2.203125 4.28125 -2.390625 L 4.28125 -2.875 L 3.21875 -2.84375 C 2.988281 -2.84375 2.765625 -2.828125 2.546875 -2.796875 C 2.335938 -2.765625 2.148438 -2.703125 1.984375 -2.609375 C 1.828125 -2.523438 1.703125 -2.398438 1.609375 -2.234375 C 1.515625 -2.078125 1.46875 -1.867188 1.46875 -1.609375 C 1.46875 -1.296875 1.550781 -1.050781 1.71875 -0.875 C 1.882812 -0.707031 2.125 -0.625 2.4375 -0.625 Z M 2.4375 -0.625 \"/>\n",
       "</g>\n",
       "<g id=\"glyph-1-3\">\n",
       "<path d=\"M 4.4375 0 L 4.4375 -3.6875 C 4.4375 -3.96875 4.414062 -4.203125 4.375 -4.390625 C 4.332031 -4.578125 4.265625 -4.726562 4.171875 -4.84375 C 4.078125 -4.96875 3.953125 -5.050781 3.796875 -5.09375 C 3.648438 -5.144531 3.460938 -5.171875 3.234375 -5.171875 C 3.003906 -5.171875 2.796875 -5.128906 2.609375 -5.046875 C 2.429688 -4.972656 2.273438 -4.859375 2.140625 -4.703125 C 2.003906 -4.546875 1.898438 -4.351562 1.828125 -4.125 C 1.765625 -3.90625 1.734375 -3.65625 1.734375 -3.375 L 1.734375 0 L 0.765625 0 L 0.765625 -4.578125 C 0.765625 -4.691406 0.757812 -4.816406 0.75 -4.953125 C 0.75 -5.085938 0.75 -5.210938 0.75 -5.328125 C 0.75 -5.453125 0.742188 -5.554688 0.734375 -5.640625 C 0.734375 -5.734375 0.734375 -5.789062 0.734375 -5.8125 L 1.640625 -5.8125 C 1.648438 -5.789062 1.65625 -5.738281 1.65625 -5.65625 C 1.65625 -5.582031 1.65625 -5.492188 1.65625 -5.390625 C 1.664062 -5.296875 1.671875 -5.191406 1.671875 -5.078125 C 1.679688 -4.972656 1.6875 -4.882812 1.6875 -4.8125 L 1.703125 -4.8125 C 1.796875 -4.988281 1.894531 -5.144531 2 -5.28125 C 2.113281 -5.414062 2.242188 -5.53125 2.390625 -5.625 C 2.535156 -5.71875 2.703125 -5.789062 2.890625 -5.84375 C 3.085938 -5.894531 3.3125 -5.921875 3.5625 -5.921875 C 3.882812 -5.921875 4.160156 -5.878906 4.390625 -5.796875 C 4.628906 -5.722656 4.820312 -5.601562 4.96875 -5.4375 C 5.113281 -5.269531 5.222656 -5.054688 5.296875 -4.796875 C 5.367188 -4.535156 5.40625 -4.226562 5.40625 -3.875 L 5.40625 0 Z M 4.4375 0 \"/>\n",
       "</g>\n",
       "<g id=\"glyph-1-4\">\n",
       "<path d=\"M -0.171875 2.1875 L -0.171875 1.484375 L 6.234375 1.484375 L 6.234375 2.1875 Z M -0.171875 2.1875 \"/>\n",
       "</g>\n",
       "<g id=\"glyph-1-5\">\n",
       "<path d=\"M 0.734375 -7.046875 L 0.734375 -7.96875 L 1.703125 -7.96875 L 1.703125 -7.046875 Z M 0.734375 0 L 0.734375 -5.8125 L 1.703125 -5.8125 L 1.703125 0 Z M 0.734375 0 \"/>\n",
       "</g>\n",
       "<g id=\"glyph-1-6\">\n",
       "<path d=\"M 2.96875 -0.046875 C 2.820312 -0.00390625 2.671875 0.0234375 2.515625 0.046875 C 2.367188 0.078125 2.195312 0.09375 2 0.09375 C 1.226562 0.09375 0.84375 -0.347656 0.84375 -1.234375 L 0.84375 -5.109375 L 0.171875 -5.109375 L 0.171875 -5.8125 L 0.875 -5.8125 L 1.15625 -7.109375 L 1.8125 -7.109375 L 1.8125 -5.8125 L 2.875 -5.8125 L 2.875 -5.109375 L 1.8125 -5.109375 L 1.8125 -1.4375 C 1.8125 -1.15625 1.851562 -0.957031 1.9375 -0.84375 C 2.03125 -0.738281 2.191406 -0.6875 2.421875 -0.6875 C 2.515625 -0.6875 2.601562 -0.691406 2.6875 -0.703125 C 2.769531 -0.710938 2.863281 -0.726562 2.96875 -0.75 Z M 2.96875 -0.046875 \"/>\n",
       "</g>\n",
       "<g id=\"glyph-1-7\">\n",
       "<path d=\"M 2.9375 2.28125 C 2.601562 2.28125 2.304688 2.242188 2.046875 2.171875 C 1.796875 2.109375 1.578125 2.015625 1.390625 1.890625 C 1.210938 1.765625 1.066406 1.613281 0.953125 1.4375 C 0.835938 1.257812 0.753906 1.0625 0.703125 0.84375 L 1.671875 0.703125 C 1.734375 0.972656 1.875 1.179688 2.09375 1.328125 C 2.320312 1.472656 2.613281 1.546875 2.96875 1.546875 C 3.1875 1.546875 3.382812 1.515625 3.5625 1.453125 C 3.738281 1.390625 3.890625 1.289062 4.015625 1.15625 C 4.148438 1.03125 4.25 0.859375 4.3125 0.640625 C 4.382812 0.421875 4.421875 0.160156 4.421875 -0.140625 L 4.421875 -1.078125 L 4.40625 -1.078125 C 4.332031 -0.929688 4.242188 -0.789062 4.140625 -0.65625 C 4.035156 -0.519531 3.90625 -0.398438 3.75 -0.296875 C 3.601562 -0.191406 3.425781 -0.109375 3.21875 -0.046875 C 3.019531 0.015625 2.789062 0.046875 2.53125 0.046875 C 2.164062 0.046875 1.847656 -0.015625 1.578125 -0.140625 C 1.316406 -0.265625 1.101562 -0.445312 0.9375 -0.6875 C 0.769531 -0.9375 0.648438 -1.242188 0.578125 -1.609375 C 0.503906 -1.984375 0.46875 -2.410156 0.46875 -2.890625 C 0.46875 -3.359375 0.503906 -3.773438 0.578125 -4.140625 C 0.648438 -4.515625 0.773438 -4.832031 0.953125 -5.09375 C 1.128906 -5.351562 1.351562 -5.550781 1.625 -5.6875 C 1.90625 -5.832031 2.242188 -5.90625 2.640625 -5.90625 C 3.054688 -5.90625 3.414062 -5.8125 3.71875 -5.625 C 4.019531 -5.4375 4.253906 -5.164062 4.421875 -4.8125 C 4.421875 -4.90625 4.421875 -5.003906 4.421875 -5.109375 C 4.429688 -5.222656 4.4375 -5.328125 4.4375 -5.421875 C 4.445312 -5.523438 4.457031 -5.613281 4.46875 -5.6875 C 4.476562 -5.757812 4.484375 -5.800781 4.484375 -5.8125 L 5.40625 -5.8125 C 5.40625 -5.78125 5.398438 -5.722656 5.390625 -5.640625 C 5.390625 -5.566406 5.382812 -5.472656 5.375 -5.359375 C 5.375 -5.253906 5.375 -5.132812 5.375 -5 C 5.375 -4.875 5.375 -4.742188 5.375 -4.609375 L 5.375 -0.171875 C 5.375 0.640625 5.171875 1.25 4.765625 1.65625 C 4.367188 2.070312 3.757812 2.28125 2.9375 2.28125 Z M 4.421875 -2.90625 C 4.421875 -3.3125 4.375 -3.65625 4.28125 -3.9375 C 4.195312 -4.226562 4.082031 -4.460938 3.9375 -4.640625 C 3.789062 -4.828125 3.625 -4.960938 3.4375 -5.046875 C 3.257812 -5.140625 3.070312 -5.1875 2.875 -5.1875 C 2.632812 -5.1875 2.425781 -5.140625 2.25 -5.046875 C 2.070312 -4.960938 1.921875 -4.828125 1.796875 -4.640625 C 1.679688 -4.460938 1.597656 -4.226562 1.546875 -3.9375 C 1.492188 -3.644531 1.46875 -3.300781 1.46875 -2.90625 C 1.46875 -2.488281 1.492188 -2.132812 1.546875 -1.84375 C 1.597656 -1.5625 1.679688 -1.332031 1.796875 -1.15625 C 1.910156 -0.976562 2.054688 -0.851562 2.234375 -0.78125 C 2.410156 -0.707031 2.617188 -0.671875 2.859375 -0.671875 C 3.054688 -0.671875 3.242188 -0.710938 3.421875 -0.796875 C 3.609375 -0.878906 3.773438 -1.007812 3.921875 -1.1875 C 4.066406 -1.363281 4.1875 -1.59375 4.28125 -1.875 C 4.375 -2.15625 4.421875 -2.5 4.421875 -2.90625 Z M 4.421875 -2.90625 \"/>\n",
       "</g>\n",
       "<g id=\"glyph-1-8\">\n",
       "<path d=\"M 0.765625 0 L 0.765625 -4.453125 C 0.765625 -4.578125 0.757812 -4.703125 0.75 -4.828125 C 0.75 -4.953125 0.75 -5.070312 0.75 -5.1875 C 0.75 -5.3125 0.742188 -5.425781 0.734375 -5.53125 C 0.734375 -5.632812 0.734375 -5.726562 0.734375 -5.8125 L 1.640625 -5.8125 C 1.648438 -5.726562 1.65625 -5.632812 1.65625 -5.53125 C 1.664062 -5.425781 1.671875 -5.316406 1.671875 -5.203125 C 1.679688 -5.085938 1.6875 -4.976562 1.6875 -4.875 C 1.6875 -4.78125 1.6875 -4.695312 1.6875 -4.625 L 1.703125 -4.625 C 1.773438 -4.84375 1.847656 -5.035156 1.921875 -5.203125 C 2.003906 -5.367188 2.097656 -5.503906 2.203125 -5.609375 C 2.304688 -5.710938 2.425781 -5.789062 2.5625 -5.84375 C 2.707031 -5.894531 2.882812 -5.921875 3.09375 -5.921875 C 3.164062 -5.921875 3.238281 -5.910156 3.3125 -5.890625 C 3.382812 -5.878906 3.441406 -5.867188 3.484375 -5.859375 L 3.484375 -4.984375 C 3.421875 -4.992188 3.34375 -5.003906 3.25 -5.015625 C 3.164062 -5.023438 3.070312 -5.03125 2.96875 -5.03125 C 2.738281 -5.03125 2.546875 -4.976562 2.390625 -4.875 C 2.242188 -4.78125 2.117188 -4.644531 2.015625 -4.46875 C 1.921875 -4.289062 1.847656 -4.078125 1.796875 -3.828125 C 1.753906 -3.585938 1.734375 -3.320312 1.734375 -3.03125 L 1.734375 0 Z M 0.765625 0 \"/>\n",
       "</g>\n",
       "<g id=\"glyph-1-9\">\n",
       "<path d=\"M 4.40625 -0.9375 C 4.226562 -0.5625 3.988281 -0.289062 3.6875 -0.125 C 3.394531 0.03125 3.03125 0.109375 2.59375 0.109375 C 1.863281 0.109375 1.328125 -0.132812 0.984375 -0.625 C 0.640625 -1.125 0.46875 -1.875 0.46875 -2.875 C 0.46875 -4.90625 1.175781 -5.921875 2.59375 -5.921875 C 3.039062 -5.921875 3.410156 -5.835938 3.703125 -5.671875 C 3.992188 -5.515625 4.226562 -5.257812 4.40625 -4.90625 L 4.421875 -4.90625 C 4.421875 -4.945312 4.421875 -5.003906 4.421875 -5.078125 C 4.421875 -5.148438 4.414062 -5.226562 4.40625 -5.3125 C 4.40625 -5.40625 4.40625 -5.488281 4.40625 -5.5625 C 4.40625 -5.632812 4.40625 -5.6875 4.40625 -5.71875 L 4.40625 -7.96875 L 5.375 -7.96875 L 5.375 -1.203125 C 5.375 -1.054688 5.375 -0.921875 5.375 -0.796875 C 5.375 -0.671875 5.375 -0.550781 5.375 -0.4375 C 5.382812 -0.332031 5.390625 -0.238281 5.390625 -0.15625 C 5.398438 -0.0820312 5.40625 -0.03125 5.40625 0 L 4.484375 0 C 4.472656 -0.03125 4.460938 -0.078125 4.453125 -0.140625 C 4.453125 -0.210938 4.445312 -0.289062 4.4375 -0.375 C 4.4375 -0.46875 4.4375 -0.5625 4.4375 -0.65625 C 4.4375 -0.75 4.4375 -0.84375 4.4375 -0.9375 Z M 1.484375 -2.90625 C 1.484375 -2.507812 1.503906 -2.164062 1.546875 -1.875 C 1.597656 -1.59375 1.675781 -1.359375 1.78125 -1.171875 C 1.894531 -0.984375 2.035156 -0.847656 2.203125 -0.765625 C 2.378906 -0.679688 2.59375 -0.640625 2.84375 -0.640625 C 3.101562 -0.640625 3.328125 -0.679688 3.515625 -0.765625 C 3.710938 -0.847656 3.875 -0.976562 4 -1.15625 C 4.132812 -1.34375 4.234375 -1.582031 4.296875 -1.875 C 4.367188 -2.175781 4.40625 -2.539062 4.40625 -2.96875 C 4.40625 -3.382812 4.367188 -3.734375 4.296875 -4.015625 C 4.234375 -4.304688 4.132812 -4.535156 4 -4.703125 C 3.875 -4.878906 3.710938 -5.003906 3.515625 -5.078125 C 3.328125 -5.160156 3.109375 -5.203125 2.859375 -5.203125 C 2.617188 -5.203125 2.410156 -5.160156 2.234375 -5.078125 C 2.066406 -4.992188 1.925781 -4.859375 1.8125 -4.671875 C 1.695312 -4.492188 1.613281 -4.257812 1.5625 -3.96875 C 1.507812 -3.675781 1.484375 -3.320312 1.484375 -2.90625 Z M 1.484375 -2.90625 \"/>\n",
       "</g>\n",
       "<g id=\"glyph-2-0\">\n",
       "<path d=\"M -2.9375 -1.484375 C -2.601562 -1.484375 -2.296875 -1.503906 -2.015625 -1.546875 C -1.734375 -1.597656 -1.488281 -1.679688 -1.28125 -1.796875 C -1.082031 -1.910156 -0.925781 -2.0625 -0.8125 -2.25 C -0.707031 -2.4375 -0.65625 -2.664062 -0.65625 -2.9375 C -0.65625 -3.28125 -0.75 -3.566406 -0.9375 -3.796875 C -1.125 -4.035156 -1.410156 -4.179688 -1.796875 -4.234375 L -1.734375 -5.203125 C -1.492188 -5.171875 -1.257812 -5.101562 -1.03125 -5 C -0.8125 -4.894531 -0.617188 -4.75 -0.453125 -4.5625 C -0.285156 -4.375 -0.148438 -4.144531 -0.046875 -3.875 C 0.0546875 -3.613281 0.109375 -3.3125 0.109375 -2.96875 C 0.109375 -2.507812 0.03125 -2.117188 -0.125 -1.796875 C -0.28125 -1.484375 -0.492188 -1.226562 -0.765625 -1.03125 C -1.035156 -0.832031 -1.351562 -0.6875 -1.71875 -0.59375 C -2.082031 -0.507812 -2.476562 -0.46875 -2.90625 -0.46875 C -3.300781 -0.46875 -3.644531 -0.5 -3.9375 -0.5625 C -4.238281 -0.625 -4.5 -0.710938 -4.71875 -0.828125 C -4.945312 -0.953125 -5.132812 -1.09375 -5.28125 -1.25 C -5.4375 -1.40625 -5.5625 -1.570312 -5.65625 -1.75 C -5.75 -1.9375 -5.816406 -2.128906 -5.859375 -2.328125 C -5.898438 -2.535156 -5.921875 -2.742188 -5.921875 -2.953125 C -5.921875 -3.285156 -5.875 -3.578125 -5.78125 -3.828125 C -5.695312 -4.085938 -5.578125 -4.304688 -5.421875 -4.484375 C -5.265625 -4.671875 -5.078125 -4.820312 -4.859375 -4.9375 C -4.648438 -5.050781 -4.425781 -5.128906 -4.1875 -5.171875 L -4.109375 -4.1875 C -4.429688 -4.132812 -4.6875 -4.003906 -4.875 -3.796875 C -5.0625 -3.597656 -5.15625 -3.3125 -5.15625 -2.9375 C -5.15625 -2.65625 -5.109375 -2.421875 -5.015625 -2.234375 C -4.929688 -2.054688 -4.796875 -1.910156 -4.609375 -1.796875 C -4.421875 -1.679688 -4.1875 -1.597656 -3.90625 -1.546875 C -3.632812 -1.503906 -3.3125 -1.484375 -2.9375 -1.484375 Z M -2.9375 -1.484375 \"/>\n",
       "</g>\n",
       "<g id=\"glyph-2-1\">\n",
       "<path d=\"M -2.90625 -5.65625 C -1.894531 -5.65625 -1.140625 -5.429688 -0.640625 -4.984375 C -0.140625 -4.535156 0.109375 -3.882812 0.109375 -3.03125 C 0.109375 -2.625 0.046875 -2.257812 -0.078125 -1.9375 C -0.203125 -1.625 -0.390625 -1.359375 -0.640625 -1.140625 C -0.890625 -0.921875 -1.203125 -0.753906 -1.578125 -0.640625 C -1.953125 -0.523438 -2.394531 -0.46875 -2.90625 -0.46875 C -4.914062 -0.46875 -5.921875 -1.332031 -5.921875 -3.0625 C -5.921875 -3.519531 -5.859375 -3.910156 -5.734375 -4.234375 C -5.609375 -4.566406 -5.421875 -4.835938 -5.171875 -5.046875 C -4.921875 -5.253906 -4.601562 -5.40625 -4.21875 -5.5 C -3.84375 -5.601562 -3.40625 -5.65625 -2.90625 -5.65625 Z M -2.90625 -4.640625 C -3.363281 -4.640625 -3.738281 -4.601562 -4.03125 -4.53125 C -4.320312 -4.46875 -4.554688 -4.367188 -4.734375 -4.234375 C -4.910156 -4.097656 -5.03125 -3.929688 -5.09375 -3.734375 C -5.164062 -3.546875 -5.203125 -3.328125 -5.203125 -3.078125 C -5.203125 -2.835938 -5.164062 -2.613281 -5.09375 -2.40625 C -5.019531 -2.207031 -4.894531 -2.039062 -4.71875 -1.90625 C -4.539062 -1.769531 -4.304688 -1.664062 -4.015625 -1.59375 C -3.722656 -1.519531 -3.351562 -1.484375 -2.90625 -1.484375 C -2.457031 -1.484375 -2.082031 -1.519531 -1.78125 -1.59375 C -1.488281 -1.675781 -1.253906 -1.785156 -1.078125 -1.921875 C -0.910156 -2.054688 -0.789062 -2.21875 -0.71875 -2.40625 C -0.644531 -2.59375 -0.609375 -2.800781 -0.609375 -3.03125 C -0.609375 -3.269531 -0.640625 -3.488281 -0.703125 -3.6875 C -0.773438 -3.894531 -0.898438 -4.066406 -1.078125 -4.203125 C -1.253906 -4.347656 -1.488281 -4.457031 -1.78125 -4.53125 C -2.082031 -4.601562 -2.457031 -4.640625 -2.90625 -4.640625 Z M -2.90625 -4.640625 \"/>\n",
       "</g>\n",
       "<g id=\"glyph-2-2\">\n",
       "<path d=\"M -5.8125 -1.6875 L -2.125 -1.6875 C -1.84375 -1.6875 -1.609375 -1.707031 -1.421875 -1.75 C -1.234375 -1.789062 -1.078125 -1.859375 -0.953125 -1.953125 C -0.835938 -2.046875 -0.753906 -2.164062 -0.703125 -2.3125 C -0.660156 -2.46875 -0.640625 -2.660156 -0.640625 -2.890625 C -0.640625 -3.117188 -0.675781 -3.320312 -0.75 -3.5 C -0.832031 -3.6875 -0.953125 -3.84375 -1.109375 -3.96875 C -1.265625 -4.101562 -1.453125 -4.207031 -1.671875 -4.28125 C -1.898438 -4.351562 -2.15625 -4.390625 -2.4375 -4.390625 L -5.8125 -4.390625 L -5.8125 -5.359375 L -1.234375 -5.359375 C -1.117188 -5.359375 -0.992188 -5.359375 -0.859375 -5.359375 C -0.722656 -5.359375 -0.59375 -5.359375 -0.46875 -5.359375 C -0.351562 -5.367188 -0.25 -5.375 -0.15625 -5.375 C -0.0703125 -5.375 -0.0195312 -5.378906 0 -5.390625 L 0 -4.46875 C -0.0195312 -4.46875 -0.0664062 -4.460938 -0.140625 -4.453125 C -0.222656 -4.453125 -0.3125 -4.445312 -0.40625 -4.4375 C -0.507812 -4.4375 -0.613281 -4.4375 -0.71875 -4.4375 C -0.832031 -4.4375 -0.925781 -4.4375 -1 -4.4375 L -1 -4.421875 C -0.820312 -4.328125 -0.664062 -4.222656 -0.53125 -4.109375 C -0.394531 -3.992188 -0.28125 -3.863281 -0.1875 -3.71875 C -0.09375 -3.570312 -0.0195312 -3.40625 0.03125 -3.21875 C 0.0820312 -3.03125 0.109375 -2.8125 0.109375 -2.5625 C 0.109375 -2.238281 0.0703125 -1.957031 0 -1.71875 C -0.0820312 -1.488281 -0.207031 -1.296875 -0.375 -1.140625 C -0.539062 -0.992188 -0.75 -0.882812 -1 -0.8125 C -1.257812 -0.75 -1.570312 -0.71875 -1.9375 -0.71875 L -5.8125 -0.71875 Z M -5.8125 -1.6875 \"/>\n",
       "</g>\n",
       "<g id=\"glyph-2-3\">\n",
       "<path d=\"M 0 -4.4375 L -3.6875 -4.4375 C -3.96875 -4.4375 -4.203125 -4.414062 -4.390625 -4.375 C -4.578125 -4.332031 -4.726562 -4.265625 -4.84375 -4.171875 C -4.96875 -4.078125 -5.050781 -3.953125 -5.09375 -3.796875 C -5.144531 -3.648438 -5.171875 -3.460938 -5.171875 -3.234375 C -5.171875 -3.003906 -5.128906 -2.796875 -5.046875 -2.609375 C -4.972656 -2.429688 -4.859375 -2.273438 -4.703125 -2.140625 C -4.546875 -2.003906 -4.351562 -1.898438 -4.125 -1.828125 C -3.90625 -1.765625 -3.65625 -1.734375 -3.375 -1.734375 L 0 -1.734375 L 0 -0.765625 L -4.578125 -0.765625 C -4.691406 -0.765625 -4.816406 -0.757812 -4.953125 -0.75 C -5.085938 -0.75 -5.210938 -0.75 -5.328125 -0.75 C -5.453125 -0.75 -5.554688 -0.742188 -5.640625 -0.734375 C -5.734375 -0.734375 -5.789062 -0.734375 -5.8125 -0.734375 L -5.8125 -1.640625 C -5.789062 -1.648438 -5.738281 -1.65625 -5.65625 -1.65625 C -5.582031 -1.65625 -5.492188 -1.65625 -5.390625 -1.65625 C -5.296875 -1.664062 -5.191406 -1.671875 -5.078125 -1.671875 C -4.972656 -1.679688 -4.882812 -1.6875 -4.8125 -1.6875 L -4.8125 -1.703125 C -4.988281 -1.796875 -5.144531 -1.894531 -5.28125 -2 C -5.414062 -2.113281 -5.53125 -2.242188 -5.625 -2.390625 C -5.71875 -2.535156 -5.789062 -2.703125 -5.84375 -2.890625 C -5.894531 -3.085938 -5.921875 -3.3125 -5.921875 -3.5625 C -5.921875 -3.882812 -5.878906 -4.160156 -5.796875 -4.390625 C -5.722656 -4.628906 -5.601562 -4.820312 -5.4375 -4.96875 C -5.269531 -5.113281 -5.054688 -5.222656 -4.796875 -5.296875 C -4.535156 -5.367188 -4.226562 -5.40625 -3.875 -5.40625 L 0 -5.40625 Z M 0 -4.4375 \"/>\n",
       "</g>\n",
       "<g id=\"glyph-2-4\">\n",
       "<path d=\"M -0.046875 -2.96875 C -0.00390625 -2.820312 0.0234375 -2.671875 0.046875 -2.515625 C 0.078125 -2.367188 0.09375 -2.195312 0.09375 -2 C 0.09375 -1.226562 -0.347656 -0.84375 -1.234375 -0.84375 L -5.109375 -0.84375 L -5.109375 -0.171875 L -5.8125 -0.171875 L -5.8125 -0.875 L -7.109375 -1.15625 L -7.109375 -1.8125 L -5.8125 -1.8125 L -5.8125 -2.875 L -5.109375 -2.875 L -5.109375 -1.8125 L -1.4375 -1.8125 C -1.15625 -1.8125 -0.957031 -1.851562 -0.84375 -1.9375 C -0.738281 -2.03125 -0.6875 -2.191406 -0.6875 -2.421875 C -0.6875 -2.515625 -0.691406 -2.601562 -0.703125 -2.6875 C -0.710938 -2.769531 -0.726562 -2.863281 -0.75 -2.96875 Z M -0.046875 -2.96875 \"/>\n",
       "</g>\n",
       "</g>\n",
       "<clipPath id=\"clip-0\">\n",
       "<path clip-rule=\"nonzero\" d=\"M 43.152344 5.480469 L 498.523438 5.480469 L 498.523438 471.851562 L 43.152344 471.851562 Z M 43.152344 5.480469 \"/>\n",
       "</clipPath>\n",
       "<clipPath id=\"clip-1\">\n",
       "<path clip-rule=\"nonzero\" d=\"M 43.152344 391 L 498.523438 391 L 498.523438 392 L 43.152344 392 Z M 43.152344 391 \"/>\n",
       "</clipPath>\n",
       "<clipPath id=\"clip-2\">\n",
       "<path clip-rule=\"nonzero\" d=\"M 43.152344 273 L 498.523438 273 L 498.523438 274 L 43.152344 274 Z M 43.152344 273 \"/>\n",
       "</clipPath>\n",
       "<clipPath id=\"clip-3\">\n",
       "<path clip-rule=\"nonzero\" d=\"M 43.152344 155 L 498.523438 155 L 498.523438 156 L 43.152344 156 Z M 43.152344 155 \"/>\n",
       "</clipPath>\n",
       "<clipPath id=\"clip-4\">\n",
       "<path clip-rule=\"nonzero\" d=\"M 43.152344 37 L 498.523438 37 L 498.523438 38 L 43.152344 38 Z M 43.152344 37 \"/>\n",
       "</clipPath>\n",
       "<clipPath id=\"clip-5\">\n",
       "<path clip-rule=\"nonzero\" d=\"M 110 5.480469 L 111 5.480469 L 111 471.851562 L 110 471.851562 Z M 110 5.480469 \"/>\n",
       "</clipPath>\n",
       "<clipPath id=\"clip-6\">\n",
       "<path clip-rule=\"nonzero\" d=\"M 217 5.480469 L 219 5.480469 L 219 471.851562 L 217 471.851562 Z M 217 5.480469 \"/>\n",
       "</clipPath>\n",
       "<clipPath id=\"clip-7\">\n",
       "<path clip-rule=\"nonzero\" d=\"M 324 5.480469 L 326 5.480469 L 326 471.851562 L 324 471.851562 Z M 324 5.480469 \"/>\n",
       "</clipPath>\n",
       "<clipPath id=\"clip-8\">\n",
       "<path clip-rule=\"nonzero\" d=\"M 432 5.480469 L 433 5.480469 L 433 471.851562 L 432 471.851562 Z M 432 5.480469 \"/>\n",
       "</clipPath>\n",
       "<clipPath id=\"clip-9\">\n",
       "<path clip-rule=\"nonzero\" d=\"M 43.152344 450 L 498.523438 450 L 498.523438 452 L 43.152344 452 Z M 43.152344 450 \"/>\n",
       "</clipPath>\n",
       "<clipPath id=\"clip-10\">\n",
       "<path clip-rule=\"nonzero\" d=\"M 43.152344 332 L 498.523438 332 L 498.523438 334 L 43.152344 334 Z M 43.152344 332 \"/>\n",
       "</clipPath>\n",
       "<clipPath id=\"clip-11\">\n",
       "<path clip-rule=\"nonzero\" d=\"M 43.152344 214 L 498.523438 214 L 498.523438 216 L 43.152344 216 Z M 43.152344 214 \"/>\n",
       "</clipPath>\n",
       "<clipPath id=\"clip-12\">\n",
       "<path clip-rule=\"nonzero\" d=\"M 43.152344 96 L 498.523438 96 L 498.523438 98 L 43.152344 98 Z M 43.152344 96 \"/>\n",
       "</clipPath>\n",
       "<clipPath id=\"clip-13\">\n",
       "<path clip-rule=\"nonzero\" d=\"M 56 5.480469 L 58 5.480469 L 58 471.851562 L 56 471.851562 Z M 56 5.480469 \"/>\n",
       "</clipPath>\n",
       "<clipPath id=\"clip-14\">\n",
       "<path clip-rule=\"nonzero\" d=\"M 163 5.480469 L 165 5.480469 L 165 471.851562 L 163 471.851562 Z M 163 5.480469 \"/>\n",
       "</clipPath>\n",
       "<clipPath id=\"clip-15\">\n",
       "<path clip-rule=\"nonzero\" d=\"M 271 5.480469 L 273 5.480469 L 273 471.851562 L 271 471.851562 Z M 271 5.480469 \"/>\n",
       "</clipPath>\n",
       "<clipPath id=\"clip-16\">\n",
       "<path clip-rule=\"nonzero\" d=\"M 378 5.480469 L 380 5.480469 L 380 471.851562 L 378 471.851562 Z M 378 5.480469 \"/>\n",
       "</clipPath>\n",
       "<clipPath id=\"clip-17\">\n",
       "<path clip-rule=\"nonzero\" d=\"M 485 5.480469 L 487 5.480469 L 487 471.851562 L 485 471.851562 Z M 485 5.480469 \"/>\n",
       "</clipPath>\n",
       "</defs>\n",
       "<rect x=\"-50.4\" y=\"-50.4\" width=\"604.8\" height=\"604.8\" fill=\"rgb(100%, 100%, 100%)\" fill-opacity=\"1\"/>\n",
       "<rect x=\"-50.4\" y=\"-50.4\" width=\"604.8\" height=\"604.8\" fill=\"rgb(100%, 100%, 100%)\" fill-opacity=\"1\"/>\n",
       "<path fill=\"none\" stroke-width=\"1.066978\" stroke-linecap=\"round\" stroke-linejoin=\"round\" stroke=\"rgb(100%, 100%, 100%)\" stroke-opacity=\"1\" stroke-miterlimit=\"10\" d=\"M 0 504 L 504 504 L 504 0 L 0 0 Z M 0 504 \"/>\n",
       "<g clip-path=\"url(#clip-0)\">\n",
       "<path fill-rule=\"nonzero\" fill=\"rgb(92.156863%, 92.156863%, 92.156863%)\" fill-opacity=\"1\" d=\"M 43.152344 471.847656 L 498.523438 471.847656 L 498.523438 5.476562 L 43.152344 5.476562 Z M 43.152344 471.847656 \"/>\n",
       "</g>\n",
       "<g clip-path=\"url(#clip-1)\">\n",
       "<path fill=\"none\" stroke-width=\"0.533489\" stroke-linecap=\"butt\" stroke-linejoin=\"round\" stroke=\"rgb(100%, 100%, 100%)\" stroke-opacity=\"1\" stroke-miterlimit=\"10\" d=\"M 43.152344 391.632812 L 498.519531 391.632812 \"/>\n",
       "</g>\n",
       "<g clip-path=\"url(#clip-2)\">\n",
       "<path fill=\"none\" stroke-width=\"0.533489\" stroke-linecap=\"butt\" stroke-linejoin=\"round\" stroke=\"rgb(100%, 100%, 100%)\" stroke-opacity=\"1\" stroke-miterlimit=\"10\" d=\"M 43.152344 273.601562 L 498.519531 273.601562 \"/>\n",
       "</g>\n",
       "<g clip-path=\"url(#clip-3)\">\n",
       "<path fill=\"none\" stroke-width=\"0.533489\" stroke-linecap=\"butt\" stroke-linejoin=\"round\" stroke=\"rgb(100%, 100%, 100%)\" stroke-opacity=\"1\" stroke-miterlimit=\"10\" d=\"M 43.152344 155.570312 L 498.519531 155.570312 \"/>\n",
       "</g>\n",
       "<g clip-path=\"url(#clip-4)\">\n",
       "<path fill=\"none\" stroke-width=\"0.533489\" stroke-linecap=\"butt\" stroke-linejoin=\"round\" stroke=\"rgb(100%, 100%, 100%)\" stroke-opacity=\"1\" stroke-miterlimit=\"10\" d=\"M 43.152344 37.535156 L 498.519531 37.535156 \"/>\n",
       "</g>\n",
       "<g clip-path=\"url(#clip-5)\">\n",
       "<path fill=\"none\" stroke-width=\"0.533489\" stroke-linecap=\"butt\" stroke-linejoin=\"round\" stroke=\"rgb(100%, 100%, 100%)\" stroke-opacity=\"1\" stroke-miterlimit=\"10\" d=\"M 110.609375 471.847656 L 110.609375 5.480469 \"/>\n",
       "</g>\n",
       "<g clip-path=\"url(#clip-6)\">\n",
       "<path fill=\"none\" stroke-width=\"0.533489\" stroke-linecap=\"butt\" stroke-linejoin=\"round\" stroke=\"rgb(100%, 100%, 100%)\" stroke-opacity=\"1\" stroke-miterlimit=\"10\" d=\"M 217.929688 471.847656 L 217.929688 5.480469 \"/>\n",
       "</g>\n",
       "<g clip-path=\"url(#clip-7)\">\n",
       "<path fill=\"none\" stroke-width=\"0.533489\" stroke-linecap=\"butt\" stroke-linejoin=\"round\" stroke=\"rgb(100%, 100%, 100%)\" stroke-opacity=\"1\" stroke-miterlimit=\"10\" d=\"M 325.253906 471.847656 L 325.253906 5.480469 \"/>\n",
       "</g>\n",
       "<g clip-path=\"url(#clip-8)\">\n",
       "<path fill=\"none\" stroke-width=\"0.533489\" stroke-linecap=\"butt\" stroke-linejoin=\"round\" stroke=\"rgb(100%, 100%, 100%)\" stroke-opacity=\"1\" stroke-miterlimit=\"10\" d=\"M 432.574219 471.847656 L 432.574219 5.480469 \"/>\n",
       "</g>\n",
       "<g clip-path=\"url(#clip-9)\">\n",
       "<path fill=\"none\" stroke-width=\"1.066978\" stroke-linecap=\"butt\" stroke-linejoin=\"round\" stroke=\"rgb(100%, 100%, 100%)\" stroke-opacity=\"1\" stroke-miterlimit=\"10\" d=\"M 43.152344 450.652344 L 498.519531 450.652344 \"/>\n",
       "</g>\n",
       "<g clip-path=\"url(#clip-10)\">\n",
       "<path fill=\"none\" stroke-width=\"1.066978\" stroke-linecap=\"butt\" stroke-linejoin=\"round\" stroke=\"rgb(100%, 100%, 100%)\" stroke-opacity=\"1\" stroke-miterlimit=\"10\" d=\"M 43.152344 332.617188 L 498.519531 332.617188 \"/>\n",
       "</g>\n",
       "<g clip-path=\"url(#clip-11)\">\n",
       "<path fill=\"none\" stroke-width=\"1.066978\" stroke-linecap=\"butt\" stroke-linejoin=\"round\" stroke=\"rgb(100%, 100%, 100%)\" stroke-opacity=\"1\" stroke-miterlimit=\"10\" d=\"M 43.152344 214.585938 L 498.519531 214.585938 \"/>\n",
       "</g>\n",
       "<g clip-path=\"url(#clip-12)\">\n",
       "<path fill=\"none\" stroke-width=\"1.066978\" stroke-linecap=\"butt\" stroke-linejoin=\"round\" stroke=\"rgb(100%, 100%, 100%)\" stroke-opacity=\"1\" stroke-miterlimit=\"10\" d=\"M 43.152344 96.554688 L 498.519531 96.554688 \"/>\n",
       "</g>\n",
       "<g clip-path=\"url(#clip-13)\">\n",
       "<path fill=\"none\" stroke-width=\"1.066978\" stroke-linecap=\"butt\" stroke-linejoin=\"round\" stroke=\"rgb(100%, 100%, 100%)\" stroke-opacity=\"1\" stroke-miterlimit=\"10\" d=\"M 56.949219 471.847656 L 56.949219 5.480469 \"/>\n",
       "</g>\n",
       "<g clip-path=\"url(#clip-14)\">\n",
       "<path fill=\"none\" stroke-width=\"1.066978\" stroke-linecap=\"butt\" stroke-linejoin=\"round\" stroke=\"rgb(100%, 100%, 100%)\" stroke-opacity=\"1\" stroke-miterlimit=\"10\" d=\"M 164.269531 471.847656 L 164.269531 5.480469 \"/>\n",
       "</g>\n",
       "<g clip-path=\"url(#clip-15)\">\n",
       "<path fill=\"none\" stroke-width=\"1.066978\" stroke-linecap=\"butt\" stroke-linejoin=\"round\" stroke=\"rgb(100%, 100%, 100%)\" stroke-opacity=\"1\" stroke-miterlimit=\"10\" d=\"M 271.59375 471.847656 L 271.59375 5.480469 \"/>\n",
       "</g>\n",
       "<g clip-path=\"url(#clip-16)\">\n",
       "<path fill=\"none\" stroke-width=\"1.066978\" stroke-linecap=\"butt\" stroke-linejoin=\"round\" stroke=\"rgb(100%, 100%, 100%)\" stroke-opacity=\"1\" stroke-miterlimit=\"10\" d=\"M 378.914062 471.847656 L 378.914062 5.480469 \"/>\n",
       "</g>\n",
       "<g clip-path=\"url(#clip-17)\">\n",
       "<path fill=\"none\" stroke-width=\"1.066978\" stroke-linecap=\"butt\" stroke-linejoin=\"round\" stroke=\"rgb(100%, 100%, 100%)\" stroke-opacity=\"1\" stroke-miterlimit=\"10\" d=\"M 486.234375 471.847656 L 486.234375 5.480469 \"/>\n",
       "</g>\n",
       "<path fill-rule=\"nonzero\" fill=\"rgb(34.901961%, 34.901961%, 34.901961%)\" fill-opacity=\"1\" d=\"M 63.847656 450.652344 L 77.648438 450.652344 L 77.648438 442.625 L 63.847656 442.625 Z M 63.847656 450.652344 \"/>\n",
       "<path fill-rule=\"nonzero\" fill=\"rgb(34.901961%, 34.901961%, 34.901961%)\" fill-opacity=\"1\" d=\"M 77.648438 450.652344 L 91.449219 450.652344 L 91.449219 432.949219 L 77.648438 432.949219 Z M 77.648438 450.652344 \"/>\n",
       "<path fill-rule=\"nonzero\" fill=\"rgb(34.901961%, 34.901961%, 34.901961%)\" fill-opacity=\"1\" d=\"M 91.449219 450.652344 L 105.25 450.652344 L 105.25 432.003906 L 91.449219 432.003906 Z M 91.449219 450.652344 \"/>\n",
       "<path fill-rule=\"nonzero\" fill=\"rgb(34.901961%, 34.901961%, 34.901961%)\" fill-opacity=\"1\" d=\"M 105.246094 450.652344 L 119.046875 450.652344 L 119.046875 430.824219 L 105.246094 430.824219 Z M 105.246094 450.652344 \"/>\n",
       "<path fill-rule=\"nonzero\" fill=\"rgb(34.901961%, 34.901961%, 34.901961%)\" fill-opacity=\"1\" d=\"M 119.046875 450.652344 L 132.847656 450.652344 L 132.847656 429.40625 L 119.046875 429.40625 Z M 119.046875 450.652344 \"/>\n",
       "<path fill-rule=\"nonzero\" fill=\"rgb(34.901961%, 34.901961%, 34.901961%)\" fill-opacity=\"1\" d=\"M 132.84375 450.652344 L 146.644531 450.652344 L 146.644531 425.867188 L 132.84375 425.867188 Z M 132.84375 450.652344 \"/>\n",
       "<path fill-rule=\"nonzero\" fill=\"rgb(34.901961%, 34.901961%, 34.901961%)\" fill-opacity=\"1\" d=\"M 146.644531 450.652344 L 160.445312 450.652344 L 160.445312 429.40625 L 146.644531 429.40625 Z M 146.644531 450.652344 \"/>\n",
       "<path fill-rule=\"nonzero\" fill=\"rgb(34.901961%, 34.901961%, 34.901961%)\" fill-opacity=\"1\" d=\"M 160.441406 450.652344 L 174.242188 450.652344 L 174.242188 430.351562 L 160.441406 430.351562 Z M 160.441406 450.652344 \"/>\n",
       "<path fill-rule=\"nonzero\" fill=\"rgb(34.901961%, 34.901961%, 34.901961%)\" fill-opacity=\"1\" d=\"M 174.242188 450.652344 L 188.042969 450.652344 L 188.042969 427.046875 L 174.242188 427.046875 Z M 174.242188 450.652344 \"/>\n",
       "<path fill-rule=\"nonzero\" fill=\"rgb(34.901961%, 34.901961%, 34.901961%)\" fill-opacity=\"1\" d=\"M 188.042969 450.652344 L 201.84375 450.652344 L 201.84375 429.171875 L 188.042969 429.171875 Z M 188.042969 450.652344 \"/>\n",
       "<path fill-rule=\"nonzero\" fill=\"rgb(34.901961%, 34.901961%, 34.901961%)\" fill-opacity=\"1\" d=\"M 201.839844 450.652344 L 215.640625 450.652344 L 215.640625 425.394531 L 201.839844 425.394531 Z M 201.839844 450.652344 \"/>\n",
       "<path fill-rule=\"nonzero\" fill=\"rgb(34.901961%, 34.901961%, 34.901961%)\" fill-opacity=\"1\" d=\"M 215.640625 450.652344 L 229.441406 450.652344 L 229.441406 391.164062 L 215.640625 391.164062 Z M 215.640625 450.652344 \"/>\n",
       "<path fill-rule=\"nonzero\" fill=\"rgb(34.901961%, 34.901961%, 34.901961%)\" fill-opacity=\"1\" d=\"M 229.4375 450.652344 L 243.238281 450.652344 L 243.238281 347.257812 L 229.4375 347.257812 Z M 229.4375 450.652344 \"/>\n",
       "<path fill-rule=\"nonzero\" fill=\"rgb(34.901961%, 34.901961%, 34.901961%)\" fill-opacity=\"1\" d=\"M 243.238281 450.652344 L 257.039062 450.652344 L 257.039062 303.347656 L 243.238281 303.347656 Z M 243.238281 450.652344 \"/>\n",
       "<path fill-rule=\"nonzero\" fill=\"rgb(34.901961%, 34.901961%, 34.901961%)\" fill-opacity=\"1\" d=\"M 257.035156 450.652344 L 270.835938 450.652344 L 270.835938 234.652344 L 257.035156 234.652344 Z M 257.035156 450.652344 \"/>\n",
       "<path fill-rule=\"nonzero\" fill=\"rgb(34.901961%, 34.901961%, 34.901961%)\" fill-opacity=\"1\" d=\"M 270.835938 450.652344 L 284.636719 450.652344 L 284.636719 159.113281 L 270.835938 159.113281 Z M 270.835938 450.652344 \"/>\n",
       "<path fill-rule=\"nonzero\" fill=\"rgb(34.901961%, 34.901961%, 34.901961%)\" fill-opacity=\"1\" d=\"M 284.632812 450.652344 L 298.433594 450.652344 L 298.433594 66.8125 L 284.632812 66.8125 Z M 284.632812 450.652344 \"/>\n",
       "<path fill-rule=\"nonzero\" fill=\"rgb(34.901961%, 34.901961%, 34.901961%)\" fill-opacity=\"1\" d=\"M 298.433594 450.652344 L 312.234375 450.652344 L 312.234375 30.691406 L 298.433594 30.691406 Z M 298.433594 450.652344 \"/>\n",
       "<path fill-rule=\"nonzero\" fill=\"rgb(34.901961%, 34.901961%, 34.901961%)\" fill-opacity=\"1\" d=\"M 312.234375 450.652344 L 326.035156 450.652344 L 326.035156 26.679688 L 312.234375 26.679688 Z M 312.234375 450.652344 \"/>\n",
       "<path fill-rule=\"nonzero\" fill=\"rgb(34.901961%, 34.901961%, 34.901961%)\" fill-opacity=\"1\" d=\"M 326.03125 450.652344 L 339.832031 450.652344 L 339.832031 92.777344 L 326.03125 92.777344 Z M 326.03125 450.652344 \"/>\n",
       "<path fill-rule=\"nonzero\" fill=\"rgb(34.901961%, 34.901961%, 34.901961%)\" fill-opacity=\"1\" d=\"M 339.832031 450.652344 L 353.632812 450.652344 L 353.632812 194.523438 L 339.832031 194.523438 Z M 339.832031 450.652344 \"/>\n",
       "<path fill-rule=\"nonzero\" fill=\"rgb(34.901961%, 34.901961%, 34.901961%)\" fill-opacity=\"1\" d=\"M 353.628906 450.652344 L 367.429688 450.652344 L 367.429688 295.320312 L 353.628906 295.320312 Z M 353.628906 450.652344 \"/>\n",
       "<path fill-rule=\"nonzero\" fill=\"rgb(34.901961%, 34.901961%, 34.901961%)\" fill-opacity=\"1\" d=\"M 367.429688 450.652344 L 381.230469 450.652344 L 381.230469 378.417969 L 367.429688 378.417969 Z M 367.429688 450.652344 \"/>\n",
       "<path fill-rule=\"nonzero\" fill=\"rgb(34.901961%, 34.901961%, 34.901961%)\" fill-opacity=\"1\" d=\"M 381.226562 450.652344 L 395.027344 450.652344 L 395.027344 417.601562 L 381.226562 417.601562 Z M 381.226562 450.652344 \"/>\n",
       "<path fill-rule=\"nonzero\" fill=\"rgb(34.901961%, 34.901961%, 34.901961%)\" fill-opacity=\"1\" d=\"M 395.027344 450.652344 L 408.828125 450.652344 L 408.828125 434.835938 L 395.027344 434.835938 Z M 395.027344 450.652344 \"/>\n",
       "<path fill-rule=\"nonzero\" fill=\"rgb(34.901961%, 34.901961%, 34.901961%)\" fill-opacity=\"1\" d=\"M 408.828125 450.652344 L 422.628906 450.652344 L 422.628906 446.875 L 408.828125 446.875 Z M 408.828125 450.652344 \"/>\n",
       "<path fill-rule=\"nonzero\" fill=\"rgb(34.901961%, 34.901961%, 34.901961%)\" fill-opacity=\"1\" d=\"M 422.625 450.652344 L 436.425781 450.652344 L 436.425781 447.582031 L 422.625 447.582031 Z M 422.625 450.652344 \"/>\n",
       "<path fill-rule=\"nonzero\" fill=\"rgb(34.901961%, 34.901961%, 34.901961%)\" fill-opacity=\"1\" d=\"M 436.425781 450.652344 L 450.226562 450.652344 L 450.226562 448.765625 L 436.425781 448.765625 Z M 436.425781 450.652344 \"/>\n",
       "<path fill-rule=\"nonzero\" fill=\"rgb(34.901961%, 34.901961%, 34.901961%)\" fill-opacity=\"1\" d=\"M 450.222656 450.652344 L 464.023438 450.652344 L 464.023438 449.234375 L 450.222656 449.234375 Z M 450.222656 450.652344 \"/>\n",
       "<path fill-rule=\"nonzero\" fill=\"rgb(34.901961%, 34.901961%, 34.901961%)\" fill-opacity=\"1\" d=\"M 464.023438 450.652344 L 477.824219 450.652344 L 477.824219 450.179688 L 464.023438 450.179688 Z M 464.023438 450.652344 \"/>\n",
       "<g fill=\"rgb(30.196078%, 30.196078%, 30.196078%)\" fill-opacity=\"1\">\n",
       "<use xlink:href=\"#glyph-0-0\" x=\"33.21875\" y=\"454.118164\"/>\n",
       "</g>\n",
       "<g fill=\"rgb(30.196078%, 30.196078%, 30.196078%)\" fill-opacity=\"1\">\n",
       "<use xlink:href=\"#glyph-0-1\" x=\"23.21875\" y=\"336.083008\"/>\n",
       "<use xlink:href=\"#glyph-0-0\" x=\"28.21875\" y=\"336.083008\"/>\n",
       "<use xlink:href=\"#glyph-0-0\" x=\"33.21875\" y=\"336.083008\"/>\n",
       "</g>\n",
       "<g fill=\"rgb(30.196078%, 30.196078%, 30.196078%)\" fill-opacity=\"1\">\n",
       "<use xlink:href=\"#glyph-0-2\" x=\"18.21875\" y=\"218.051758\"/>\n",
       "<use xlink:href=\"#glyph-0-0\" x=\"23.21875\" y=\"218.051758\"/>\n",
       "<use xlink:href=\"#glyph-0-0\" x=\"28.21875\" y=\"218.051758\"/>\n",
       "<use xlink:href=\"#glyph-0-0\" x=\"33.21875\" y=\"218.051758\"/>\n",
       "</g>\n",
       "<g fill=\"rgb(30.196078%, 30.196078%, 30.196078%)\" fill-opacity=\"1\">\n",
       "<use xlink:href=\"#glyph-0-2\" x=\"18.21875\" y=\"100.020508\"/>\n",
       "<use xlink:href=\"#glyph-0-1\" x=\"23.21875\" y=\"100.020508\"/>\n",
       "<use xlink:href=\"#glyph-0-0\" x=\"28.21875\" y=\"100.020508\"/>\n",
       "<use xlink:href=\"#glyph-0-0\" x=\"33.21875\" y=\"100.020508\"/>\n",
       "</g>\n",
       "<path fill=\"none\" stroke-width=\"1.066978\" stroke-linecap=\"butt\" stroke-linejoin=\"round\" stroke=\"rgb(20%, 20%, 20%)\" stroke-opacity=\"1\" stroke-miterlimit=\"10\" d=\"M 40.410156 450.652344 L 43.152344 450.652344 \"/>\n",
       "<path fill=\"none\" stroke-width=\"1.066978\" stroke-linecap=\"butt\" stroke-linejoin=\"round\" stroke=\"rgb(20%, 20%, 20%)\" stroke-opacity=\"1\" stroke-miterlimit=\"10\" d=\"M 40.410156 332.617188 L 43.152344 332.617188 \"/>\n",
       "<path fill=\"none\" stroke-width=\"1.066978\" stroke-linecap=\"butt\" stroke-linejoin=\"round\" stroke=\"rgb(20%, 20%, 20%)\" stroke-opacity=\"1\" stroke-miterlimit=\"10\" d=\"M 40.410156 214.585938 L 43.152344 214.585938 \"/>\n",
       "<path fill=\"none\" stroke-width=\"1.066978\" stroke-linecap=\"butt\" stroke-linejoin=\"round\" stroke=\"rgb(20%, 20%, 20%)\" stroke-opacity=\"1\" stroke-miterlimit=\"10\" d=\"M 40.410156 96.554688 L 43.152344 96.554688 \"/>\n",
       "<path fill=\"none\" stroke-width=\"1.066978\" stroke-linecap=\"butt\" stroke-linejoin=\"round\" stroke=\"rgb(20%, 20%, 20%)\" stroke-opacity=\"1\" stroke-miterlimit=\"10\" d=\"M 56.949219 474.589844 L 56.949219 471.847656 \"/>\n",
       "<path fill=\"none\" stroke-width=\"1.066978\" stroke-linecap=\"butt\" stroke-linejoin=\"round\" stroke=\"rgb(20%, 20%, 20%)\" stroke-opacity=\"1\" stroke-miterlimit=\"10\" d=\"M 164.269531 474.589844 L 164.269531 471.847656 \"/>\n",
       "<path fill=\"none\" stroke-width=\"1.066978\" stroke-linecap=\"butt\" stroke-linejoin=\"round\" stroke=\"rgb(20%, 20%, 20%)\" stroke-opacity=\"1\" stroke-miterlimit=\"10\" d=\"M 271.59375 474.589844 L 271.59375 471.847656 \"/>\n",
       "<path fill=\"none\" stroke-width=\"1.066978\" stroke-linecap=\"butt\" stroke-linejoin=\"round\" stroke=\"rgb(20%, 20%, 20%)\" stroke-opacity=\"1\" stroke-miterlimit=\"10\" d=\"M 378.914062 474.589844 L 378.914062 471.847656 \"/>\n",
       "<path fill=\"none\" stroke-width=\"1.066978\" stroke-linecap=\"butt\" stroke-linejoin=\"round\" stroke=\"rgb(20%, 20%, 20%)\" stroke-opacity=\"1\" stroke-miterlimit=\"10\" d=\"M 486.234375 474.589844 L 486.234375 471.847656 \"/>\n",
       "<g fill=\"rgb(30.196078%, 30.196078%, 30.196078%)\" fill-opacity=\"1\">\n",
       "<use xlink:href=\"#glyph-0-0\" x=\"54.449219\" y=\"483.74707\"/>\n",
       "</g>\n",
       "<g fill=\"rgb(30.196078%, 30.196078%, 30.196078%)\" fill-opacity=\"1\">\n",
       "<use xlink:href=\"#glyph-0-1\" x=\"159.269531\" y=\"483.74707\"/>\n",
       "<use xlink:href=\"#glyph-0-0\" x=\"164.269531\" y=\"483.74707\"/>\n",
       "</g>\n",
       "<g fill=\"rgb(30.196078%, 30.196078%, 30.196078%)\" fill-opacity=\"1\">\n",
       "<use xlink:href=\"#glyph-0-2\" x=\"264.09375\" y=\"483.74707\"/>\n",
       "<use xlink:href=\"#glyph-0-0\" x=\"269.09375\" y=\"483.74707\"/>\n",
       "<use xlink:href=\"#glyph-0-0\" x=\"274.09375\" y=\"483.74707\"/>\n",
       "</g>\n",
       "<g fill=\"rgb(30.196078%, 30.196078%, 30.196078%)\" fill-opacity=\"1\">\n",
       "<use xlink:href=\"#glyph-0-2\" x=\"371.414062\" y=\"483.74707\"/>\n",
       "<use xlink:href=\"#glyph-0-1\" x=\"376.414062\" y=\"483.74707\"/>\n",
       "<use xlink:href=\"#glyph-0-0\" x=\"381.414062\" y=\"483.74707\"/>\n",
       "</g>\n",
       "<g fill=\"rgb(30.196078%, 30.196078%, 30.196078%)\" fill-opacity=\"1\">\n",
       "<use xlink:href=\"#glyph-0-3\" x=\"478.734375\" y=\"483.74707\"/>\n",
       "<use xlink:href=\"#glyph-0-0\" x=\"483.734375\" y=\"483.74707\"/>\n",
       "<use xlink:href=\"#glyph-0-0\" x=\"488.734375\" y=\"483.74707\"/>\n",
       "</g>\n",
       "<g fill=\"rgb(0%, 0%, 0%)\" fill-opacity=\"1\">\n",
       "<use xlink:href=\"#glyph-1-0\" x=\"230.335938\" y=\"496.477539\"/>\n",
       "<use xlink:href=\"#glyph-1-1\" x=\"239.335938\" y=\"496.477539\"/>\n",
       "<use xlink:href=\"#glyph-1-2\" x=\"245.335938\" y=\"496.477539\"/>\n",
       "<use xlink:href=\"#glyph-1-3\" x=\"251.335938\" y=\"496.477539\"/>\n",
       "<use xlink:href=\"#glyph-1-4\" x=\"257.335938\" y=\"496.477539\"/>\n",
       "<use xlink:href=\"#glyph-1-5\" x=\"263.335938\" y=\"496.477539\"/>\n",
       "<use xlink:href=\"#glyph-1-3\" x=\"265.335938\" y=\"496.477539\"/>\n",
       "<use xlink:href=\"#glyph-1-6\" x=\"271.335938\" y=\"496.477539\"/>\n",
       "<use xlink:href=\"#glyph-1-1\" x=\"274.335938\" y=\"496.477539\"/>\n",
       "<use xlink:href=\"#glyph-1-7\" x=\"280.335938\" y=\"496.477539\"/>\n",
       "<use xlink:href=\"#glyph-1-8\" x=\"286.335938\" y=\"496.477539\"/>\n",
       "<use xlink:href=\"#glyph-1-2\" x=\"290.335938\" y=\"496.477539\"/>\n",
       "<use xlink:href=\"#glyph-1-6\" x=\"296.335938\" y=\"496.477539\"/>\n",
       "<use xlink:href=\"#glyph-1-1\" x=\"299.335938\" y=\"496.477539\"/>\n",
       "<use xlink:href=\"#glyph-1-9\" x=\"305.335938\" y=\"496.477539\"/>\n",
       "</g>\n",
       "<g fill=\"rgb(0%, 0%, 0%)\" fill-opacity=\"1\">\n",
       "<use xlink:href=\"#glyph-2-0\" x=\"13.438477\" y=\"252.164062\"/>\n",
       "<use xlink:href=\"#glyph-2-1\" x=\"13.438477\" y=\"246.164062\"/>\n",
       "<use xlink:href=\"#glyph-2-2\" x=\"13.438477\" y=\"240.164062\"/>\n",
       "<use xlink:href=\"#glyph-2-3\" x=\"13.438477\" y=\"234.164062\"/>\n",
       "<use xlink:href=\"#glyph-2-4\" x=\"13.438477\" y=\"228.164062\"/>\n",
       "</g>\n",
       "</svg>\n"
      ],
      "text/plain": [
       "plot without title"
      ]
     },
     "metadata": {
      "application/pdf": {
       "height": 420,
       "width": 420
      },
      "image/jpeg": {
       "height": 420,
       "width": 420
      },
      "image/png": {
       "height": 420,
       "width": 420
      },
      "image/svg+xml": {
       "height": 420,
       "isolated": true,
       "width": 420
      }
     },
     "output_type": "display_data"
    }
   ],
   "source": [
    "pulsar_train |> ggplot(aes(x = Mean_integrated)) +\n",
    "  geom_histogram()\n",
    "#make the plots side by side?"
   ]
  },
  {
   "cell_type": "code",
   "execution_count": null,
   "id": "2eed24e2-22e1-46e6-8476-9bdeb17b33f5",
   "metadata": {},
   "outputs": [],
   "source": []
  }
 ],
 "metadata": {
  "kernelspec": {
   "display_name": "R",
   "language": "R",
   "name": "ir"
  },
  "language_info": {
   "codemirror_mode": "r",
   "file_extension": ".r",
   "mimetype": "text/x-r-source",
   "name": "R",
   "pygments_lexer": "r",
   "version": "4.3.1"
  }
 },
 "nbformat": 4,
 "nbformat_minor": 5
}
